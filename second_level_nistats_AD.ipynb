{
 "cells": [
  {
   "cell_type": "code",
   "execution_count": 1,
   "metadata": {},
   "outputs": [
    {
     "name": "stderr",
     "output_type": "stream",
     "text": [
      "/data/softwares/anaconda3/2019.10/lib/python3.7/site-packages/sklearn/externals/joblib/__init__.py:15: DeprecationWarning: sklearn.externals.joblib is deprecated in 0.21 and will be removed in 0.23. Please import this functionality directly from joblib, which can be installed with: pip install joblib. If this warning is raised when loading pickled models, you may need to re-serialize those models with scikit-learn 0.21+.\n",
      "  warnings.warn(msg, category=DeprecationWarning)\n"
     ]
    }
   ],
   "source": [
    "import re\n",
    "import glob\n",
    "import pandas as pd\n",
    "import nibabel as nb\n",
    "import numpy as np\n",
    "from nistats.second_level_model import SecondLevelModel\n",
    "from nistats.thresholding import map_threshold\n",
    "from nilearn import plotting"
   ]
  },
  {
   "cell_type": "markdown",
   "metadata": {},
   "source": [
    "# importing rmaps"
   ]
  },
  {
   "cell_type": "code",
   "execution_count": 2,
   "metadata": {},
   "outputs": [
    {
     "data": {
      "text/plain": [
       "112"
      ]
     },
     "execution_count": 2,
     "metadata": {},
     "output_type": "execute_result"
    }
   ],
   "source": [
    "network_interest = \"DMN\"\n",
    "connectivity_maps = glob.glob(\"rest/rmap_seeds/*sub*_\"+network_interest+\".nii.gz\")\n",
    "len(connectivity_maps)"
   ]
  },
  {
   "cell_type": "markdown",
   "metadata": {},
   "source": [
    "# import csv file "
   ]
  },
  {
   "cell_type": "code",
   "execution_count": 3,
   "metadata": {},
   "outputs": [
    {
     "name": "stdout",
     "output_type": "stream",
     "text": [
      "{nan, 'trouble_cognitif_léger_précoce', 'troubles_subjectifs_de_cognition', 'démence_de_type_alzheimer-légère', 'trouble_cognitif_léger_tardif', 'cognitivement_sain_(cs)'}\n",
      "(34, 3)\n"
     ]
    },
    {
     "data": {
      "text/html": [
       "<div>\n",
       "<style scoped>\n",
       "    .dataframe tbody tr th:only-of-type {\n",
       "        vertical-align: middle;\n",
       "    }\n",
       "\n",
       "    .dataframe tbody tr th {\n",
       "        vertical-align: top;\n",
       "    }\n",
       "\n",
       "    .dataframe thead th {\n",
       "        text-align: right;\n",
       "    }\n",
       "</style>\n",
       "<table border=\"1\" class=\"dataframe\">\n",
       "  <thead>\n",
       "    <tr style=\"text-align: right;\">\n",
       "      <th></th>\n",
       "      <th>subID</th>\n",
       "      <th>diagnostic</th>\n",
       "      <th>Candidate_Age</th>\n",
       "    </tr>\n",
       "  </thead>\n",
       "  <tbody>\n",
       "    <tr>\n",
       "      <td>3</td>\n",
       "      <td>878652.0</td>\n",
       "      <td>démence_de_type_alzheimer-légère</td>\n",
       "      <td>78.6</td>\n",
       "    </tr>\n",
       "    <tr>\n",
       "      <td>4</td>\n",
       "      <td>318809.0</td>\n",
       "      <td>cognitivement_sain_(cs)</td>\n",
       "      <td>70.9</td>\n",
       "    </tr>\n",
       "    <tr>\n",
       "      <td>11</td>\n",
       "      <td>437101.0</td>\n",
       "      <td>cognitivement_sain_(cs)</td>\n",
       "      <td>74.5</td>\n",
       "    </tr>\n",
       "    <tr>\n",
       "      <td>12</td>\n",
       "      <td>324734.0</td>\n",
       "      <td>cognitivement_sain_(cs)</td>\n",
       "      <td>89.3</td>\n",
       "    </tr>\n",
       "    <tr>\n",
       "      <td>21</td>\n",
       "      <td>164965.0</td>\n",
       "      <td>cognitivement_sain_(cs)</td>\n",
       "      <td>66.3</td>\n",
       "    </tr>\n",
       "  </tbody>\n",
       "</table>\n",
       "</div>"
      ],
      "text/plain": [
       "       subID                        diagnostic Candidate_Age\n",
       "3   878652.0  démence_de_type_alzheimer-légère          78.6\n",
       "4   318809.0           cognitivement_sain_(cs)          70.9\n",
       "11  437101.0           cognitivement_sain_(cs)          74.5\n",
       "12  324734.0           cognitivement_sain_(cs)          89.3\n",
       "21  164965.0           cognitivement_sain_(cs)          66.3"
      ]
     },
     "execution_count": 3,
     "metadata": {},
     "output_type": "execute_result"
    }
   ],
   "source": [
    "#load the csv files\n",
    "cimaq_diagnostic = pd.read_csv('36448_diagnostic_clinique.tsv', sep = '\\t')\n",
    "cimaq_diagnostic\n",
    "print(set(cimaq_diagnostic['36448_diagnostic_clinique'].values))\n",
    "\n",
    "#Rename the columns\n",
    "cimaq_diagnostic = cimaq_diagnostic[['CandID','36448_diagnostic_clinique','Candidate_Age']]\n",
    "cimaq_diagnostic.rename(columns = {\"CandID\":\"subID\",\"36448_diagnostic_clinique\":\"diagnostic\",\"Candidate Age\":\"Age\" },inplace=True)\n",
    "\n",
    "#drop the rows that have nan\n",
    "cimaq_diagnostic.dropna(inplace=True)\n",
    "\n",
    "#drop the SCD and MCI subjects\n",
    "cimaq_diagnostic = cimaq_diagnostic.loc[cimaq_diagnostic[\"diagnostic\"] != \"troubles_subjectifs_de_cognition\" ]\n",
    "cimaq_diagnostic = cimaq_diagnostic.loc[cimaq_diagnostic[\"diagnostic\"] != \"trouble_cognitif_léger_précoce\" ]\n",
    "cimaq_diagnostic = cimaq_diagnostic.loc[cimaq_diagnostic[\"diagnostic\"] != \"trouble_cognitif_léger_tardif\" ]\n",
    "\n",
    "#Get the subject IDs from the the rmaps\n",
    "subjectID_set = set([sub.split(\"sub\")[1].split(\"_\")[0] for sub in connectivity_maps])\n",
    "                    \n",
    "#drop the subjects from csv if rmaps are not present\n",
    "cimaq_diagnostic = cimaq_diagnostic.loc[cimaq_diagnostic[\"subID\"].isin(subjectID_set)]                   \n",
    "                    \n",
    "print(cimaq_diagnostic.shape)\n",
    "cimaq_diagnostic.head()"
   ]
  },
  {
   "cell_type": "code",
   "execution_count": 4,
   "metadata": {},
   "outputs": [
    {
     "data": {
      "text/html": [
       "<div>\n",
       "<style scoped>\n",
       "    .dataframe tbody tr th:only-of-type {\n",
       "        vertical-align: middle;\n",
       "    }\n",
       "\n",
       "    .dataframe tbody tr th {\n",
       "        vertical-align: top;\n",
       "    }\n",
       "\n",
       "    .dataframe thead th {\n",
       "        text-align: right;\n",
       "    }\n",
       "</style>\n",
       "<table border=\"1\" class=\"dataframe\">\n",
       "  <thead>\n",
       "    <tr style=\"text-align: right;\">\n",
       "      <th></th>\n",
       "      <th>subID</th>\n",
       "      <th>diagnostic</th>\n",
       "      <th>Candidate_Age</th>\n",
       "    </tr>\n",
       "  </thead>\n",
       "  <tbody>\n",
       "    <tr>\n",
       "      <td>3</td>\n",
       "      <td>878652.0</td>\n",
       "      <td>démence_de_type_alzheimer-légère</td>\n",
       "      <td>78.6</td>\n",
       "    </tr>\n",
       "    <tr>\n",
       "      <td>4</td>\n",
       "      <td>318809.0</td>\n",
       "      <td>cognitivement_sain_(cs)</td>\n",
       "      <td>70.9</td>\n",
       "    </tr>\n",
       "    <tr>\n",
       "      <td>11</td>\n",
       "      <td>437101.0</td>\n",
       "      <td>cognitivement_sain_(cs)</td>\n",
       "      <td>74.5</td>\n",
       "    </tr>\n",
       "    <tr>\n",
       "      <td>12</td>\n",
       "      <td>324734.0</td>\n",
       "      <td>cognitivement_sain_(cs)</td>\n",
       "      <td>89.3</td>\n",
       "    </tr>\n",
       "    <tr>\n",
       "      <td>21</td>\n",
       "      <td>164965.0</td>\n",
       "      <td>cognitivement_sain_(cs)</td>\n",
       "      <td>66.3</td>\n",
       "    </tr>\n",
       "  </tbody>\n",
       "</table>\n",
       "</div>"
      ],
      "text/plain": [
       "       subID                        diagnostic Candidate_Age\n",
       "3   878652.0  démence_de_type_alzheimer-légère          78.6\n",
       "4   318809.0           cognitivement_sain_(cs)          70.9\n",
       "11  437101.0           cognitivement_sain_(cs)          74.5\n",
       "12  324734.0           cognitivement_sain_(cs)          89.3\n",
       "21  164965.0           cognitivement_sain_(cs)          66.3"
      ]
     },
     "execution_count": 4,
     "metadata": {},
     "output_type": "execute_result"
    }
   ],
   "source": [
    "#cimaq_diagnostic = cimaq_diagnostic.loc[cimaq_diagnostic[\"diagnostic\"] == \"démence_de_type_alzheimer-légère\" ]\n",
    "cimaq_diagnostic.head()"
   ]
  },
  {
   "cell_type": "markdown",
   "metadata": {},
   "source": [
    "# create design matrix"
   ]
  },
  {
   "cell_type": "code",
   "execution_count": 5,
   "metadata": {},
   "outputs": [
    {
     "data": {
      "text/html": [
       "<div>\n",
       "<style scoped>\n",
       "    .dataframe tbody tr th:only-of-type {\n",
       "        vertical-align: middle;\n",
       "    }\n",
       "\n",
       "    .dataframe tbody tr th {\n",
       "        vertical-align: top;\n",
       "    }\n",
       "\n",
       "    .dataframe thead th {\n",
       "        text-align: right;\n",
       "    }\n",
       "</style>\n",
       "<table border=\"1\" class=\"dataframe\">\n",
       "  <thead>\n",
       "    <tr style=\"text-align: right;\">\n",
       "      <th></th>\n",
       "      <th>subID</th>\n",
       "      <th>diagnostic</th>\n",
       "      <th>Candidate_Age</th>\n",
       "      <th>MCI</th>\n",
       "      <th>SCD</th>\n",
       "      <th>CN</th>\n",
       "      <th>AD</th>\n",
       "    </tr>\n",
       "  </thead>\n",
       "  <tbody>\n",
       "    <tr>\n",
       "      <td>3</td>\n",
       "      <td>878652</td>\n",
       "      <td>démence_de_type_alzheimer-légère</td>\n",
       "      <td>78.6</td>\n",
       "      <td>0</td>\n",
       "      <td>0</td>\n",
       "      <td>0</td>\n",
       "      <td>1</td>\n",
       "    </tr>\n",
       "    <tr>\n",
       "      <td>4</td>\n",
       "      <td>318809</td>\n",
       "      <td>cognitivement_sain_(cs)</td>\n",
       "      <td>70.9</td>\n",
       "      <td>0</td>\n",
       "      <td>0</td>\n",
       "      <td>1</td>\n",
       "      <td>0</td>\n",
       "    </tr>\n",
       "    <tr>\n",
       "      <td>11</td>\n",
       "      <td>437101</td>\n",
       "      <td>cognitivement_sain_(cs)</td>\n",
       "      <td>74.5</td>\n",
       "      <td>0</td>\n",
       "      <td>0</td>\n",
       "      <td>1</td>\n",
       "      <td>0</td>\n",
       "    </tr>\n",
       "    <tr>\n",
       "      <td>12</td>\n",
       "      <td>324734</td>\n",
       "      <td>cognitivement_sain_(cs)</td>\n",
       "      <td>89.3</td>\n",
       "      <td>0</td>\n",
       "      <td>0</td>\n",
       "      <td>1</td>\n",
       "      <td>0</td>\n",
       "    </tr>\n",
       "    <tr>\n",
       "      <td>21</td>\n",
       "      <td>164965</td>\n",
       "      <td>cognitivement_sain_(cs)</td>\n",
       "      <td>66.3</td>\n",
       "      <td>0</td>\n",
       "      <td>0</td>\n",
       "      <td>1</td>\n",
       "      <td>0</td>\n",
       "    </tr>\n",
       "  </tbody>\n",
       "</table>\n",
       "</div>"
      ],
      "text/plain": [
       "     subID                        diagnostic Candidate_Age  MCI  SCD  CN  AD\n",
       "3   878652  démence_de_type_alzheimer-légère          78.6    0    0   0   1\n",
       "4   318809           cognitivement_sain_(cs)          70.9    0    0   1   0\n",
       "11  437101           cognitivement_sain_(cs)          74.5    0    0   1   0\n",
       "12  324734           cognitivement_sain_(cs)          89.3    0    0   1   0\n",
       "21  164965           cognitivement_sain_(cs)          66.3    0    0   1   0"
      ]
     },
     "execution_count": 5,
     "metadata": {},
     "output_type": "execute_result"
    }
   ],
   "source": [
    "\n",
    "cimaq_diagnostic[\"MCI\"] = 0\n",
    "cimaq_diagnostic[\"SCD\"] = 0\n",
    "cimaq_diagnostic[\"CN\"] = 0\n",
    "cimaq_diagnostic[\"AD\"] = 0\n",
    "\n",
    "for i,r in cimaq_diagnostic.iterrows():\n",
    "    \n",
    "    #print(i)\n",
    "#     if(r[\"diagnostic\"] == \"troubles_subjectifs_de_cognition\" ):\n",
    "#         cimaq_diagnostic.loc[i,\"SCD\"] = 1\n",
    "\n",
    "    if(r[\"diagnostic\"] == \"cognitivement_sain_(cs)\"):\n",
    "        cimaq_diagnostic.loc[i,\"CN\"] = 1          \n",
    "\n",
    "#     if(\"trouble_cognitif_léger\" in r[\"diagnostic\"] ):\n",
    "#         cimaq_diagnostic.loc[i,\"MCI\"] = 1\n",
    " \n",
    "    if(\"démence_de_type_alzheimer-légère\" == r[\"diagnostic\"] ):\n",
    "        cimaq_diagnostic.loc[i,\"AD\"] = 1\n",
    " \n",
    "        \n",
    "\n",
    "\n",
    "    cimaq_diagnostic.loc[i,\"subID\"] = str(r[\"subID\"]).split(\".\")[0]\n",
    "    \n",
    "\n",
    "# cimaq_diagnostic = cimaq_diagnostic.loc[cimaq_diagnostic[\"diagnostic\"] != \"démence_de_type_alzheimer-légère\" ]\n",
    "# cimaq_diagnostic = cimaq_diagnostic.loc[cimaq_diagnostic[\"subID\"].isin(subjectID_set)]\n",
    "cimaq_diagnostic.head()"
   ]
  },
  {
   "cell_type": "code",
   "execution_count": 6,
   "metadata": {},
   "outputs": [
    {
     "data": {
      "text/plain": [
       "{'cognitivement_sain_(cs)', 'démence_de_type_alzheimer-légère'}"
      ]
     },
     "execution_count": 6,
     "metadata": {},
     "output_type": "execute_result"
    }
   ],
   "source": [
    "set(cimaq_diagnostic['diagnostic'].values)"
   ]
  },
  {
   "cell_type": "code",
   "execution_count": 7,
   "metadata": {},
   "outputs": [
    {
     "data": {
      "text/plain": [
       "(34, 2)"
      ]
     },
     "execution_count": 7,
     "metadata": {},
     "output_type": "execute_result"
    }
   ],
   "source": [
    "design_matrix = cimaq_diagnostic[[\"AD\",\"CN\"]]\n",
    "design_matrix.shape"
   ]
  },
  {
   "cell_type": "markdown",
   "metadata": {},
   "source": [
    "# perform  t-test"
   ]
  },
  {
   "cell_type": "code",
   "execution_count": 8,
   "metadata": {},
   "outputs": [],
   "source": [
    "#take the rmaps that are in the csv\n",
    "second_level_input = []\n",
    "for i in connectivity_maps:\n",
    "    sub = re.search(\"\\d\\d\\d\\d\\d\\d\",i)\n",
    "    subid = sub.group(0)\n",
    "    if(subid in set(cimaq_diagnostic[\"subID\"].values)):        \n",
    "        second_level_input.append(i)\n"
   ]
  },
  {
   "cell_type": "code",
   "execution_count": 9,
   "metadata": {},
   "outputs": [],
   "source": [
    "second_level_model = SecondLevelModel().fit(second_level_input, design_matrix=design_matrix)\n",
    "z_score = second_level_model.compute_contrast(second_level_contrast = [-1,1])"
   ]
  },
  {
   "cell_type": "code",
   "execution_count": 10,
   "metadata": {},
   "outputs": [
    {
     "data": {
      "text/plain": [
       "<nilearn.plotting.displays.OrthoSlicer at 0x7f72fc23d790>"
      ]
     },
     "execution_count": 10,
     "metadata": {},
     "output_type": "execute_result"
    },
    {
     "data": {
      "image/png": "[encoded data removed]",
      "text/plain": [
       "<Figure size 525.6x187.2 with 5 Axes>"
      ]
     },
     "metadata": {},
     "output_type": "display_data"
    }
   ],
   "source": [
    "plotting.plot_stat_map(z_score)"
   ]
  },
  {
   "cell_type": "code",
   "execution_count": 11,
   "metadata": {},
   "outputs": [
    {
     "name": "stderr",
     "output_type": "stream",
     "text": [
      "/home/hanads/.local/lib/python3.7/site-packages/nilearn/plotting/find_cuts.py:63: UserWarning: Given img is empty. Returning default cut_coords=(0.0, 0.0, 0.0) instead.\n",
      "  .format(DEFAULT_CUT_COORDS))\n",
      "/home/hanads/.local/lib/python3.7/site-packages/nilearn/plotting/displays.py:780: UserWarning: empty mask\n",
      "  get_mask_bounds(new_img_like(img, not_mask, affine))\n"
     ]
    },
    {
     "data": {
      "text/plain": [
       "<nilearn.plotting.displays.OrthoSlicer at 0x7f72fc039150>"
      ]
     },
     "execution_count": 11,
     "metadata": {},
     "output_type": "execute_result"
    },
    {
     "data": {
      "image/png": "[encoded data removed]",
      "text/plain": [
       "<Figure size 525.6x187.2 with 4 Axes>"
      ]
     },
     "metadata": {},
     "output_type": "display_data"
    }
   ],
   "source": [
    "thresholded_map, threshold = map_threshold(z_score, alpha=0.9, height_control='fdr')\n",
    "plotting.plot_stat_map(thresholded_map)"
   ]
  },
  {
   "cell_type": "markdown",
   "metadata": {},
   "source": [
    "# F-test"
   ]
  },
  {
   "cell_type": "code",
   "execution_count": 12,
   "metadata": {},
   "outputs": [],
   "source": [
    "#second_level_model2 = SecondLevelModel().fit(second_level_input, design_matrix=design_matrix)\n",
    "#p_map = second_level_model2.compute_contrast(second_level_contrast = [1,1,1], second_level_stat_type = \"F\")"
   ]
  },
  {
   "cell_type": "code",
   "execution_count": 13,
   "metadata": {},
   "outputs": [],
   "source": [
    "#plotting.view_img(p_map)"
   ]
  },
  {
   "cell_type": "code",
   "execution_count": null,
   "metadata": {},
   "outputs": [],
   "source": []
  }
 ],
 "metadata": {
  "kernelspec": {
   "display_name": "hanad_env",
   "language": "python",
   "name": "hanad_env"
  },
  "language_info": {
   "codemirror_mode": {
    "name": "ipython",
    "version": 3
   },
   "file_extension": ".py",
   "mimetype": "text/x-python",
   "name": "python",
   "nbconvert_exporter": "python",
   "pygments_lexer": "ipython3",
   "version": "3.7.4"
  }
 },
 "nbformat": 4,
 "nbformat_minor": 2
}
