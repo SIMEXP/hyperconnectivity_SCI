{
 "cells": [
  {
   "cell_type": "code",
   "execution_count": 1,
   "metadata": {},
   "outputs": [
    {
     "name": "stderr",
     "output_type": "stream",
     "text": [
      "/data/softwares/anaconda3/2019.10/lib/python3.7/site-packages/sklearn/externals/joblib/__init__.py:15: DeprecationWarning: sklearn.externals.joblib is deprecated in 0.21 and will be removed in 0.23. Please import this functionality directly from joblib, which can be installed with: pip install joblib. If this warning is raised when loading pickled models, you may need to re-serialize those models with scikit-learn 0.21+.\n",
      "  warnings.warn(msg, category=DeprecationWarning)\n"
     ]
    }
   ],
   "source": [
    "import glob\n",
    "import pandas as pd\n",
    "import nibabel as nb\n",
    "import numpy as np\n",
    "from nistats.second_level_model import SecondLevelModel\n",
    "from nistats.thresholding import map_threshold\n",
    "from nilearn import plotting\n"
   ]
  },
  {
   "cell_type": "markdown",
   "metadata": {},
   "source": [
    "# importing rmaps"
   ]
  },
  {
   "cell_type": "code",
   "execution_count": 2,
   "metadata": {},
   "outputs": [],
   "source": [
    "networks = ['CER','LIM','MOT','VIS','DMN','FP','VATT_SAL']\n",
    "\n",
    "nets_rmaps = {}\n",
    "for net in networks:\n",
    "    connectivity_maps = glob.glob(\"../rest/rmap_seeds/*sub*_\"+net+\".nii.gz\")\n",
    "    rmap_list = []\n",
    "    for rmap in connectivity_maps:\n",
    "        rmap_list.append(rmap)\n",
    "    nets_rmaps[net] = rmap_list\n",
    "        "
   ]
  },
  {
   "cell_type": "code",
   "execution_count": 3,
   "metadata": {},
   "outputs": [
    {
     "data": {
      "text/plain": [
       "112"
      ]
     },
     "execution_count": 3,
     "metadata": {},
     "output_type": "execute_result"
    }
   ],
   "source": [
    "len(nets_rmaps[\"CER\"])"
   ]
  },
  {
   "cell_type": "code",
   "execution_count": 4,
   "metadata": {},
   "outputs": [
    {
     "data": {
      "text/plain": [
       "7"
      ]
     },
     "execution_count": 4,
     "metadata": {},
     "output_type": "execute_result"
    }
   ],
   "source": [
    "len(nets_rmaps.keys())"
   ]
  },
  {
   "cell_type": "markdown",
   "metadata": {},
   "source": [
    "# import csv file "
   ]
  },
  {
   "cell_type": "code",
   "execution_count": 5,
   "metadata": {},
   "outputs": [
    {
     "name": "stdout",
     "output_type": "stream",
     "text": [
      "{'troubles_subjectifs_de_cognition', 'cognitivement_sain_(cs)', 'trouble_cognitif_léger_précoce', 'trouble_cognitif_léger_tardif', 'démence_de_type_alzheimer-légère'}\n"
     ]
    },
    {
     "data": {
      "text/html": [
       "<div>\n",
       "<style scoped>\n",
       "    .dataframe tbody tr th:only-of-type {\n",
       "        vertical-align: middle;\n",
       "    }\n",
       "\n",
       "    .dataframe tbody tr th {\n",
       "        vertical-align: top;\n",
       "    }\n",
       "\n",
       "    .dataframe thead th {\n",
       "        text-align: right;\n",
       "    }\n",
       "</style>\n",
       "<table border=\"1\" class=\"dataframe\">\n",
       "  <thead>\n",
       "    <tr style=\"text-align: right;\">\n",
       "      <th></th>\n",
       "      <th>subID</th>\n",
       "      <th>diagnostic</th>\n",
       "    </tr>\n",
       "  </thead>\n",
       "  <tbody>\n",
       "    <tr>\n",
       "      <td>0</td>\n",
       "      <td>327986</td>\n",
       "      <td>troubles_subjectifs_de_cognition</td>\n",
       "    </tr>\n",
       "    <tr>\n",
       "      <td>1</td>\n",
       "      <td>934539</td>\n",
       "      <td>démence_de_type_alzheimer-légère</td>\n",
       "    </tr>\n",
       "    <tr>\n",
       "      <td>2</td>\n",
       "      <td>368387</td>\n",
       "      <td>troubles_subjectifs_de_cognition</td>\n",
       "    </tr>\n",
       "    <tr>\n",
       "      <td>3</td>\n",
       "      <td>658178</td>\n",
       "      <td>troubles_subjectifs_de_cognition</td>\n",
       "    </tr>\n",
       "    <tr>\n",
       "      <td>4</td>\n",
       "      <td>641853</td>\n",
       "      <td>troubles_subjectifs_de_cognition</td>\n",
       "    </tr>\n",
       "    <tr>\n",
       "      <td>...</td>\n",
       "      <td>...</td>\n",
       "      <td>...</td>\n",
       "    </tr>\n",
       "    <tr>\n",
       "      <td>309</td>\n",
       "      <td>654431</td>\n",
       "      <td>démence_de_type_alzheimer-légère</td>\n",
       "    </tr>\n",
       "    <tr>\n",
       "      <td>310</td>\n",
       "      <td>774096</td>\n",
       "      <td>troubles_subjectifs_de_cognition</td>\n",
       "    </tr>\n",
       "    <tr>\n",
       "      <td>311</td>\n",
       "      <td>467954</td>\n",
       "      <td>trouble_cognitif_léger_tardif</td>\n",
       "    </tr>\n",
       "    <tr>\n",
       "      <td>312</td>\n",
       "      <td>203982</td>\n",
       "      <td>démence_de_type_alzheimer-légère</td>\n",
       "    </tr>\n",
       "    <tr>\n",
       "      <td>313</td>\n",
       "      <td>197192</td>\n",
       "      <td>troubles_subjectifs_de_cognition</td>\n",
       "    </tr>\n",
       "  </tbody>\n",
       "</table>\n",
       "<p>314 rows × 2 columns</p>\n",
       "</div>"
      ],
      "text/plain": [
       "      subID                        diagnostic\n",
       "0    327986  troubles_subjectifs_de_cognition\n",
       "1    934539  démence_de_type_alzheimer-légère\n",
       "2    368387  troubles_subjectifs_de_cognition\n",
       "3    658178  troubles_subjectifs_de_cognition\n",
       "4    641853  troubles_subjectifs_de_cognition\n",
       "..      ...                               ...\n",
       "309  654431  démence_de_type_alzheimer-légère\n",
       "310  774096  troubles_subjectifs_de_cognition\n",
       "311  467954     trouble_cognitif_léger_tardif\n",
       "312  203982  démence_de_type_alzheimer-légère\n",
       "313  197192  troubles_subjectifs_de_cognition\n",
       "\n",
       "[314 rows x 2 columns]"
      ]
     },
     "execution_count": 5,
     "metadata": {},
     "output_type": "execute_result"
    }
   ],
   "source": [
    "cimaq_diagnostic = '../../cimaq_csv/cimaq_diagnostic_Nov_2019.csv'\n",
    "cimaq_diagnostic = pd.read_csv(cimaq_diagnostic)\n",
    "\n",
    "\n",
    "print(set(cimaq_diagnostic['V01 36448_diagnostic_clinique,36448_diagnostic_clinique'].values))\n",
    "cimaq_diagnostic = cimaq_diagnostic[['V01 demographics,CandID','V01 36448_diagnostic_clinique,36448_diagnostic_clinique']]\n",
    "cimaq_diagnostic.rename(columns = {\"V01 demographics,CandID\":\"subID\",\"V01 36448_diagnostic_clinique,36448_diagnostic_clinique\":\"diagnostic\" },inplace=True)\n",
    "cimaq_diagnostic"
   ]
  },
  {
   "cell_type": "code",
   "execution_count": 6,
   "metadata": {},
   "outputs": [
    {
     "data": {
      "text/html": [
       "<div>\n",
       "<style scoped>\n",
       "    .dataframe tbody tr th:only-of-type {\n",
       "        vertical-align: middle;\n",
       "    }\n",
       "\n",
       "    .dataframe tbody tr th {\n",
       "        vertical-align: top;\n",
       "    }\n",
       "\n",
       "    .dataframe thead th {\n",
       "        text-align: right;\n",
       "    }\n",
       "</style>\n",
       "<table border=\"1\" class=\"dataframe\">\n",
       "  <thead>\n",
       "    <tr style=\"text-align: right;\">\n",
       "      <th></th>\n",
       "      <th>subID</th>\n",
       "      <th>diagnostic</th>\n",
       "      <th>contrast</th>\n",
       "    </tr>\n",
       "  </thead>\n",
       "  <tbody>\n",
       "    <tr>\n",
       "      <td>0</td>\n",
       "      <td>327986</td>\n",
       "      <td>troubles_subjectifs_de_cognition</td>\n",
       "      <td>7</td>\n",
       "    </tr>\n",
       "    <tr>\n",
       "      <td>1</td>\n",
       "      <td>934539</td>\n",
       "      <td>démence_de_type_alzheimer-légère</td>\n",
       "      <td>7</td>\n",
       "    </tr>\n",
       "    <tr>\n",
       "      <td>2</td>\n",
       "      <td>368387</td>\n",
       "      <td>troubles_subjectifs_de_cognition</td>\n",
       "      <td>7</td>\n",
       "    </tr>\n",
       "    <tr>\n",
       "      <td>3</td>\n",
       "      <td>658178</td>\n",
       "      <td>troubles_subjectifs_de_cognition</td>\n",
       "      <td>1</td>\n",
       "    </tr>\n",
       "    <tr>\n",
       "      <td>4</td>\n",
       "      <td>641853</td>\n",
       "      <td>troubles_subjectifs_de_cognition</td>\n",
       "      <td>7</td>\n",
       "    </tr>\n",
       "    <tr>\n",
       "      <td>...</td>\n",
       "      <td>...</td>\n",
       "      <td>...</td>\n",
       "      <td>...</td>\n",
       "    </tr>\n",
       "    <tr>\n",
       "      <td>309</td>\n",
       "      <td>654431</td>\n",
       "      <td>démence_de_type_alzheimer-légère</td>\n",
       "      <td>7</td>\n",
       "    </tr>\n",
       "    <tr>\n",
       "      <td>310</td>\n",
       "      <td>774096</td>\n",
       "      <td>troubles_subjectifs_de_cognition</td>\n",
       "      <td>7</td>\n",
       "    </tr>\n",
       "    <tr>\n",
       "      <td>311</td>\n",
       "      <td>467954</td>\n",
       "      <td>trouble_cognitif_léger_tardif</td>\n",
       "      <td>0</td>\n",
       "    </tr>\n",
       "    <tr>\n",
       "      <td>312</td>\n",
       "      <td>203982</td>\n",
       "      <td>démence_de_type_alzheimer-légère</td>\n",
       "      <td>7</td>\n",
       "    </tr>\n",
       "    <tr>\n",
       "      <td>313</td>\n",
       "      <td>197192</td>\n",
       "      <td>troubles_subjectifs_de_cognition</td>\n",
       "      <td>1</td>\n",
       "    </tr>\n",
       "  </tbody>\n",
       "</table>\n",
       "<p>314 rows × 3 columns</p>\n",
       "</div>"
      ],
      "text/plain": [
       "      subID                        diagnostic  contrast\n",
       "0    327986  troubles_subjectifs_de_cognition         7\n",
       "1    934539  démence_de_type_alzheimer-légère         7\n",
       "2    368387  troubles_subjectifs_de_cognition         7\n",
       "3    658178  troubles_subjectifs_de_cognition         1\n",
       "4    641853  troubles_subjectifs_de_cognition         7\n",
       "..      ...                               ...       ...\n",
       "309  654431  démence_de_type_alzheimer-légère         7\n",
       "310  774096  troubles_subjectifs_de_cognition         7\n",
       "311  467954     trouble_cognitif_léger_tardif         0\n",
       "312  203982  démence_de_type_alzheimer-légère         7\n",
       "313  197192  troubles_subjectifs_de_cognition         1\n",
       "\n",
       "[314 rows x 3 columns]"
      ]
     },
     "execution_count": 6,
     "metadata": {},
     "output_type": "execute_result"
    }
   ],
   "source": [
    "\n",
    "cimaq_diagnostic[\"contrast\"] = 7\n",
    "subjectID_set = set([sub.split(\"sub\")[1].split(\"_\")[0] for sub in nets_rmaps[\"CER\"]])\n",
    "for i,r in cimaq_diagnostic.iterrows():\n",
    "    \n",
    "    if(str(r[\"subID\"]) in subjectID_set):\n",
    "       \n",
    "        if(r[\"diagnostic\"] == \"troubles_subjectifs_de_cognition\"):\n",
    "            cimaq_diagnostic.loc[i,\"contrast\"] = 1\n",
    "        if(r[\"diagnostic\"] == \"cognitivement_sain_(cs)\"):\n",
    "            cimaq_diagnostic.loc[i,\"contrast\"] = -1          \n",
    "        \n",
    "        if(\"trouble_cognitif_léger\" in r[\"diagnostic\"]):\n",
    "            cimaq_diagnostic.loc[i,\"contrast\"] = 0\n",
    "            \n",
    "        cimaq_diagnostic.loc[i,\"subID\"] = str(r[\"subID\"])\n",
    "        \n",
    "cimaq_diagnostic"
   ]
  },
  {
   "cell_type": "code",
   "execution_count": 7,
   "metadata": {},
   "outputs": [
    {
     "data": {
      "text/html": [
       "<div>\n",
       "<style scoped>\n",
       "    .dataframe tbody tr th:only-of-type {\n",
       "        vertical-align: middle;\n",
       "    }\n",
       "\n",
       "    .dataframe tbody tr th {\n",
       "        vertical-align: top;\n",
       "    }\n",
       "\n",
       "    .dataframe thead th {\n",
       "        text-align: right;\n",
       "    }\n",
       "</style>\n",
       "<table border=\"1\" class=\"dataframe\">\n",
       "  <thead>\n",
       "    <tr style=\"text-align: right;\">\n",
       "      <th></th>\n",
       "      <th>subID</th>\n",
       "      <th>diagnostic</th>\n",
       "      <th>contrast</th>\n",
       "    </tr>\n",
       "  </thead>\n",
       "  <tbody>\n",
       "    <tr>\n",
       "      <td>3</td>\n",
       "      <td>658178</td>\n",
       "      <td>troubles_subjectifs_de_cognition</td>\n",
       "      <td>1</td>\n",
       "    </tr>\n",
       "    <tr>\n",
       "      <td>7</td>\n",
       "      <td>920577</td>\n",
       "      <td>troubles_subjectifs_de_cognition</td>\n",
       "      <td>1</td>\n",
       "    </tr>\n",
       "    <tr>\n",
       "      <td>10</td>\n",
       "      <td>199801</td>\n",
       "      <td>trouble_cognitif_léger_tardif</td>\n",
       "      <td>0</td>\n",
       "    </tr>\n",
       "    <tr>\n",
       "      <td>11</td>\n",
       "      <td>254530</td>\n",
       "      <td>troubles_subjectifs_de_cognition</td>\n",
       "      <td>1</td>\n",
       "    </tr>\n",
       "    <tr>\n",
       "      <td>16</td>\n",
       "      <td>748676</td>\n",
       "      <td>trouble_cognitif_léger_précoce</td>\n",
       "      <td>0</td>\n",
       "    </tr>\n",
       "    <tr>\n",
       "      <td>...</td>\n",
       "      <td>...</td>\n",
       "      <td>...</td>\n",
       "      <td>...</td>\n",
       "    </tr>\n",
       "    <tr>\n",
       "      <td>296</td>\n",
       "      <td>785245</td>\n",
       "      <td>troubles_subjectifs_de_cognition</td>\n",
       "      <td>1</td>\n",
       "    </tr>\n",
       "    <tr>\n",
       "      <td>299</td>\n",
       "      <td>778749</td>\n",
       "      <td>troubles_subjectifs_de_cognition</td>\n",
       "      <td>1</td>\n",
       "    </tr>\n",
       "    <tr>\n",
       "      <td>306</td>\n",
       "      <td>560180</td>\n",
       "      <td>trouble_cognitif_léger_précoce</td>\n",
       "      <td>0</td>\n",
       "    </tr>\n",
       "    <tr>\n",
       "      <td>311</td>\n",
       "      <td>467954</td>\n",
       "      <td>trouble_cognitif_léger_tardif</td>\n",
       "      <td>0</td>\n",
       "    </tr>\n",
       "    <tr>\n",
       "      <td>313</td>\n",
       "      <td>197192</td>\n",
       "      <td>troubles_subjectifs_de_cognition</td>\n",
       "      <td>1</td>\n",
       "    </tr>\n",
       "  </tbody>\n",
       "</table>\n",
       "<p>99 rows × 3 columns</p>\n",
       "</div>"
      ],
      "text/plain": [
       "      subID                        diagnostic  contrast\n",
       "3    658178  troubles_subjectifs_de_cognition         1\n",
       "7    920577  troubles_subjectifs_de_cognition         1\n",
       "10   199801     trouble_cognitif_léger_tardif         0\n",
       "11   254530  troubles_subjectifs_de_cognition         1\n",
       "16   748676    trouble_cognitif_léger_précoce         0\n",
       "..      ...                               ...       ...\n",
       "296  785245  troubles_subjectifs_de_cognition         1\n",
       "299  778749  troubles_subjectifs_de_cognition         1\n",
       "306  560180    trouble_cognitif_léger_précoce         0\n",
       "311  467954     trouble_cognitif_léger_tardif         0\n",
       "313  197192  troubles_subjectifs_de_cognition         1\n",
       "\n",
       "[99 rows x 3 columns]"
      ]
     },
     "execution_count": 7,
     "metadata": {},
     "output_type": "execute_result"
    }
   ],
   "source": [
    "cimaq_diagnostic = cimaq_diagnostic.loc[(cimaq_diagnostic[\"contrast\"] != 7)]\n",
    "cimaq_diagnostic"
   ]
  },
  {
   "cell_type": "code",
   "execution_count": 8,
   "metadata": {},
   "outputs": [
    {
     "data": {
      "text/plain": [
       "array([[ 1],\n",
       "       [ 1],\n",
       "       [ 0],\n",
       "       [ 1],\n",
       "       [ 0],\n",
       "       [ 1],\n",
       "       [ 1],\n",
       "       [-1],\n",
       "       [ 1],\n",
       "       [ 1],\n",
       "       [ 1],\n",
       "       [ 1],\n",
       "       [ 1],\n",
       "       [-1],\n",
       "       [ 1],\n",
       "       [ 1],\n",
       "       [ 1],\n",
       "       [ 1],\n",
       "       [-1],\n",
       "       [ 0],\n",
       "       [ 1],\n",
       "       [ 0],\n",
       "       [-1],\n",
       "       [ 1],\n",
       "       [ 1],\n",
       "       [ 1],\n",
       "       [-1],\n",
       "       [-1],\n",
       "       [ 0],\n",
       "       [ 1],\n",
       "       [-1],\n",
       "       [ 1],\n",
       "       [ 1],\n",
       "       [ 1],\n",
       "       [-1],\n",
       "       [ 0],\n",
       "       [ 1],\n",
       "       [ 1],\n",
       "       [ 1],\n",
       "       [ 0],\n",
       "       [-1],\n",
       "       [ 1],\n",
       "       [ 0],\n",
       "       [ 1],\n",
       "       [ 0],\n",
       "       [ 1],\n",
       "       [ 0],\n",
       "       [ 1],\n",
       "       [ 1],\n",
       "       [ 0],\n",
       "       [ 1],\n",
       "       [ 1],\n",
       "       [ 0],\n",
       "       [ 1],\n",
       "       [ 0],\n",
       "       [ 1],\n",
       "       [ 1],\n",
       "       [ 1],\n",
       "       [ 1],\n",
       "       [ 1],\n",
       "       [ 1],\n",
       "       [ 0],\n",
       "       [ 1],\n",
       "       [ 1],\n",
       "       [ 0],\n",
       "       [ 1],\n",
       "       [ 1],\n",
       "       [ 1],\n",
       "       [ 0],\n",
       "       [-1],\n",
       "       [ 1],\n",
       "       [-1],\n",
       "       [-1],\n",
       "       [-1],\n",
       "       [-1],\n",
       "       [ 1],\n",
       "       [ 0],\n",
       "       [-1],\n",
       "       [-1],\n",
       "       [-1],\n",
       "       [ 1],\n",
       "       [ 0],\n",
       "       [ 1],\n",
       "       [ 1],\n",
       "       [-1],\n",
       "       [-1],\n",
       "       [ 1],\n",
       "       [-1],\n",
       "       [-1],\n",
       "       [ 0],\n",
       "       [-1],\n",
       "       [ 0],\n",
       "       [-1],\n",
       "       [ 1],\n",
       "       [ 1],\n",
       "       [ 1],\n",
       "       [ 0],\n",
       "       [ 0],\n",
       "       [ 1]])"
      ]
     },
     "execution_count": 8,
     "metadata": {},
     "output_type": "execute_result"
    }
   ],
   "source": [
    "design_matrix = cimaq_diagnostic[[\"contrast\"]]\n",
    "\n",
    "design_matrix.values"
   ]
  },
  {
   "cell_type": "code",
   "execution_count": 9,
   "metadata": {},
   "outputs": [],
   "source": [
    "network_interest = \"DMN\"\n",
    "rmaps = nets_rmaps[network_interest]\n"
   ]
  },
  {
   "cell_type": "code",
   "execution_count": 10,
   "metadata": {},
   "outputs": [
    {
     "data": {
      "text/plain": [
       "99"
      ]
     },
     "execution_count": 10,
     "metadata": {},
     "output_type": "execute_result"
    }
   ],
   "source": [
    "#Select the rmaps that are SCD and CN\n",
    "\n",
    "import re\n",
    "second_level_input = []\n",
    "for i in rmaps:\n",
    "    sub = re.search(\"\\d\\d\\d\\d\\d\\d\",i)\n",
    "    \n",
    "    subid = sub.group(0)\n",
    "    #print(subid)\n",
    "    if(subid in set(cimaq_diagnostic[\"subID\"].values)):\n",
    "        \n",
    "        second_level_input.append(i)\n",
    "        \n",
    "len(second_level_input)"
   ]
  },
  {
   "cell_type": "code",
   "execution_count": 11,
   "metadata": {},
   "outputs": [],
   "source": [
    "#Calculate the glm and zmap\n",
    "second_level_model = SecondLevelModel().fit(second_level_input, design_matrix=design_matrix)\n",
    "z_map = second_level_model.compute_contrast(output_type='z_score')"
   ]
  },
  {
   "cell_type": "code",
   "execution_count": 12,
   "metadata": {},
   "outputs": [],
   "source": [
    "thresholded_map1, threshold1 = map_threshold(\n",
    "    z_map, alpha=.1, height_control='fpr', cluster_threshold=10)"
   ]
  },
  {
   "cell_type": "code",
   "execution_count": 13,
   "metadata": {},
   "outputs": [
    {
     "name": "stdout",
     "output_type": "stream",
     "text": [
      "The p<.05 Bonferroni-corrected threshold is 4.03\n"
     ]
    }
   ],
   "source": [
    "thresholded_map3, threshold3 = map_threshold(\n",
    "    z_map, alpha=5, height_control='bonferroni')\n",
    "print('The p<.05 Bonferroni-corrected threshold is %.3g' % threshold3)"
   ]
  },
  {
   "cell_type": "code",
   "execution_count": 14,
   "metadata": {},
   "outputs": [
    {
     "data": {
      "text/plain": [
       "<nilearn.plotting.displays.OrthoSlicer at 0x7fdd0bd3a810>"
      ]
     },
     "execution_count": 14,
     "metadata": {},
     "output_type": "execute_result"
    },
    {
     "data": {
      "image/png": "[encoded data removed]",
      "text/plain": [
       "<Figure size 525.6x187.2 with 5 Axes>"
      ]
     },
     "metadata": {},
     "output_type": "display_data"
    }
   ],
   "source": [
    "plotting.plot_stat_map(\n",
    "    thresholded_map3, threshold=threshold3,\n",
    "    title='Thresholded z map, fpr <.001, clusters > 10 voxels')"
   ]
  },
  {
   "cell_type": "code",
   "execution_count": null,
   "metadata": {},
   "outputs": [],
   "source": []
  },
  {
   "cell_type": "code",
   "execution_count": null,
   "metadata": {},
   "outputs": [],
   "source": []
  }
 ],
 "metadata": {
  "kernelspec": {
   "display_name": "hanad_env",
   "language": "python",
   "name": "hanad_env"
  },
  "language_info": {
   "codemirror_mode": {
    "name": "ipython",
    "version": 3
   },
   "file_extension": ".py",
   "mimetype": "text/x-python",
   "name": "python",
   "nbconvert_exporter": "python",
   "pygments_lexer": "ipython3",
   "version": "3.7.4"
  }
 },
 "nbformat": 4,
 "nbformat_minor": 2
}
