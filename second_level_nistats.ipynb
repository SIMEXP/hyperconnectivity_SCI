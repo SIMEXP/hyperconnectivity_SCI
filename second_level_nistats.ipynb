{
 "cells": [
  {
   "cell_type": "code",
   "execution_count": null,
   "metadata": {},
   "outputs": [],
   "source": [
    "import re\n",
    "import glob\n",
    "import pandas as pd\n",
    "import nibabel as nb\n",
    "import numpy as np\n",
    "from nistats.second_level_model import SecondLevelModel\n",
    "from nistats.thresholding import map_threshold\n",
    "from nilearn import plotting\n"
   ]
  },
  {
   "cell_type": "markdown",
   "metadata": {},
   "source": [
    "# importing rmaps"
   ]
  },
  {
   "cell_type": "code",
   "execution_count": null,
   "metadata": {},
   "outputs": [],
   "source": [
    "network_interest = \"DMN\"\n",
    "connectivity_maps = glob.glob(\"rest/rmap_seeds/*sub*_\"+network_interest+\".nii.gz\")\n",
    "len(connectivity_maps)"
   ]
  },
  {
   "cell_type": "markdown",
   "metadata": {},
   "source": [
    "# import csv file "
   ]
  },
  {
   "cell_type": "code",
   "execution_count": null,
   "metadata": {},
   "outputs": [],
   "source": [
    "cimaq_diagnostic = 'cimaq_diagnostic_Nov_2019.csv'\n",
    "cimaq_diagnostic = pd.read_csv(cimaq_diagnostic)\n",
    "\n",
    "print(set(cimaq_diagnostic['V01 36448_diagnostic_clinique,36448_diagnostic_clinique'].values))\n",
    "cimaq_diagnostic = cimaq_diagnostic[['V01 demographics,CandID','V01 36448_diagnostic_clinique,36448_diagnostic_clinique']]\n",
    "cimaq_diagnostic.rename(columns = {\"V01 demographics,CandID\":\"subID\",\"V01 36448_diagnostic_clinique,36448_diagnostic_clinique\":\"diagnostic\" },inplace=True)\n",
    "cimaq_diagnostic.shape"
   ]
  },
  {
   "cell_type": "markdown",
   "metadata": {},
   "source": [
    "# create design matrix"
   ]
  },
  {
   "cell_type": "code",
   "execution_count": null,
   "metadata": {},
   "outputs": [],
   "source": [
    "\n",
    "cimaq_diagnostic[\"MCI\"] = 0\n",
    "cimaq_diagnostic[\"SCD\"] = 0\n",
    "cimaq_diagnostic[\"CN\"] = 0\n",
    "\n",
    "subjectID_set = set([sub.split(\"sub\")[1].split(\"_\")[0] for sub in connectivity_maps])\n",
    "drop = []\n",
    "for i,r in cimaq_diagnostic.iterrows():\n",
    "    \n",
    "    #\n",
    "    if(r[\"diagnostic\"] == \"troubles_subjectifs_de_cognition\" ):\n",
    "        cimaq_diagnostic.loc[i,\"SCD\"] = 1\n",
    "\n",
    "    if(r[\"diagnostic\"] == \"cognitivement_sain_(cs)\"):\n",
    "        cimaq_diagnostic.loc[i,\"CN\"] = 1          \n",
    "\n",
    "    if(\"trouble_cognitif_léger\" in r[\"diagnostic\"] ):\n",
    "        cimaq_diagnostic.loc[i,\"MCI\"] = 1\n",
    "\n",
    "\n",
    "    cimaq_diagnostic.loc[i,\"subID\"] = str(r[\"subID\"])\n",
    "    \n",
    "\n",
    "cimaq_diagnostic = cimaq_diagnostic.loc[cimaq_diagnostic[\"diagnostic\"] != \"démence_de_type_alzheimer-légère\" ]\n",
    "cimaq_diagnostic = cimaq_diagnostic.loc[cimaq_diagnostic[\"subID\"].isin(subjectID_set)]\n",
    "cimaq_diagnostic.head()"
   ]
  },
  {
   "cell_type": "code",
   "execution_count": null,
   "metadata": {},
   "outputs": [],
   "source": [
    "design_matrix = cimaq_diagnostic[[\"MCI\",\"SCD\",\"CN\"]]\n",
    "design_matrix.shape"
   ]
  },
  {
   "cell_type": "markdown",
   "metadata": {},
   "source": [
    "# perform  t-test"
   ]
  },
  {
   "cell_type": "code",
   "execution_count": null,
   "metadata": {},
   "outputs": [],
   "source": [
    "second_level_input = []\n",
    "for i in connectivity_maps:\n",
    "    sub = re.search(\"\\d\\d\\d\\d\\d\\d\",i)\n",
    "    subid = sub.group(0)\n",
    "    if(subid in set(cimaq_diagnostic[\"subID\"].values)):        \n",
    "        second_level_input.append(i)\n"
   ]
  },
  {
   "cell_type": "code",
   "execution_count": null,
   "metadata": {},
   "outputs": [],
   "source": [
    "second_level_model = SecondLevelModel().fit(second_level_input, design_matrix=design_matrix)\n",
    "p_map = second_level_model.compute_contrast(second_level_contrast = [0,-1,1])"
   ]
  },
  {
   "cell_type": "code",
   "execution_count": null,
   "metadata": {},
   "outputs": [],
   "source": [
    "plotting.view_img(p_map)"
   ]
  },
  {
   "cell_type": "code",
   "execution_count": null,
   "metadata": {},
   "outputs": [],
   "source": [
    "thresholded_map, threshold = map_threshold(p_map, alpha=0.5, height_control='fdr')\n",
    "plotting.view_img(thresholded_map)"
   ]
  },
  {
   "cell_type": "markdown",
   "metadata": {},
   "source": [
    "# F-test"
   ]
  },
  {
   "cell_type": "code",
   "execution_count": null,
   "metadata": {},
   "outputs": [],
   "source": [
    "second_level_model = SecondLevelModel().fit(second_level_input, design_matrix=design_matrix)\n",
    "p_map = second_level_model.compute_contrast(second_level_contrast = [1,1,1], second_level_stat_type = \"F\")"
   ]
  },
  {
   "cell_type": "code",
   "execution_count": null,
   "metadata": {},
   "outputs": [],
   "source": [
    "plotting.view_img(p_map)"
   ]
  },
  {
   "cell_type": "code",
   "execution_count": null,
   "metadata": {},
   "outputs": [],
   "source": []
  },
  {
   "cell_type": "code",
   "execution_count": null,
   "metadata": {},
   "outputs": [],
   "source": []
  },
  {
   "cell_type": "code",
   "execution_count": null,
   "metadata": {},
   "outputs": [],
   "source": []
  }
 ],
 "metadata": {
  "kernelspec": {
   "display_name": "hanad_env",
   "language": "python",
   "name": "hanad_env"
  },
  "language_info": {
   "codemirror_mode": {
    "name": "ipython",
    "version": 3
   },
   "file_extension": ".py",
   "mimetype": "text/x-python",
   "name": "python",
   "nbconvert_exporter": "python",
   "pygments_lexer": "ipython3",
   "version": "3.7.4"
  }
 },
 "nbformat": 4,
 "nbformat_minor": 2
}
