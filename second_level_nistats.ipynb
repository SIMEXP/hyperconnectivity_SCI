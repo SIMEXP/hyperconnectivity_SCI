{
 "cells": [
  {
   "cell_type": "code",
   "execution_count": 29,
   "metadata": {},
   "outputs": [],
   "source": [
    "import glob\n",
    "import pandas as pd\n",
    "import nibabel as nb\n",
    "from nistats.second_level_model import SecondLevelModel"
   ]
  },
  {
   "cell_type": "code",
   "execution_count": 7,
   "metadata": {},
   "outputs": [],
   "source": [
    "networks = ['CER','LIM','MOT','VIS','DMN','FP','VATT_SAL']\n",
    "\n",
    "nets_rmaps = {}\n",
    "\n",
    "for net in networks:\n",
    "    connectivity_maps = glob.glob(\"rest/rmap_seeds/*sub*_\"+net+\".nii.gz\")\n",
    "    rmap_list = []\n",
    "    for rmap in connectivity_maps:\n",
    "        rmap_list.append(rmap)\n",
    "    nets_rmaps[net] = rmap_list\n",
    "        "
   ]
  },
  {
   "cell_type": "code",
   "execution_count": 26,
   "metadata": {},
   "outputs": [
    {
     "data": {
      "text/plain": [
       "dict_keys(['CER', 'LIM', 'MOT', 'VIS', 'DMN', 'FP', 'VATT_SAL'])"
      ]
     },
     "execution_count": 26,
     "metadata": {},
     "output_type": "execute_result"
    }
   ],
   "source": [
    "nets_rmaps.keys()"
   ]
  },
  {
   "cell_type": "code",
   "execution_count": 17,
   "metadata": {},
   "outputs": [],
   "source": [
    "network_interest = \"DMN\""
   ]
  },
  {
   "cell_type": "code",
   "execution_count": 18,
   "metadata": {},
   "outputs": [
    {
     "name": "stdout",
     "output_type": "stream",
     "text": [
      "Index(['Identifiers',\n",
      "       'V01 36448_diagnostic_clinique,36448_diagnostic_clinique',\n",
      "       'V07 50658_diagnostic_clinique_2ans,50658_diagnostic_clinique',\n",
      "       'V01 demographics,CandID'],\n",
      "      dtype='object')\n"
     ]
    }
   ],
   "source": [
    "cimaq_diagnostic = '../cimaq_csv/cimaq_diagnostic_Nov_2019.csv'\n",
    "cimaq_diagnostic = pd.read_csv(cimaq_diagnostic)\n",
    "print(cimaq_diagnostic.columns)"
   ]
  },
  {
   "cell_type": "code",
   "execution_count": 19,
   "metadata": {},
   "outputs": [
    {
     "name": "stdout",
     "output_type": "stream",
     "text": [
      "{'trouble_cognitif_léger_tardif', 'trouble_cognitif_léger_précoce', 'troubles_subjectifs_de_cognition', 'cognitivement_sain_(cs)', 'démence_de_type_alzheimer-légère'}\n"
     ]
    },
    {
     "data": {
      "text/html": [
       "<div>\n",
       "<style scoped>\n",
       "    .dataframe tbody tr th:only-of-type {\n",
       "        vertical-align: middle;\n",
       "    }\n",
       "\n",
       "    .dataframe tbody tr th {\n",
       "        vertical-align: top;\n",
       "    }\n",
       "\n",
       "    .dataframe thead th {\n",
       "        text-align: right;\n",
       "    }\n",
       "</style>\n",
       "<table border=\"1\" class=\"dataframe\">\n",
       "  <thead>\n",
       "    <tr style=\"text-align: right;\">\n",
       "      <th></th>\n",
       "      <th>subID</th>\n",
       "      <th>diagnostic</th>\n",
       "    </tr>\n",
       "  </thead>\n",
       "  <tbody>\n",
       "    <tr>\n",
       "      <td>0</td>\n",
       "      <td>327986</td>\n",
       "      <td>troubles_subjectifs_de_cognition</td>\n",
       "    </tr>\n",
       "    <tr>\n",
       "      <td>1</td>\n",
       "      <td>934539</td>\n",
       "      <td>démence_de_type_alzheimer-légère</td>\n",
       "    </tr>\n",
       "    <tr>\n",
       "      <td>2</td>\n",
       "      <td>368387</td>\n",
       "      <td>troubles_subjectifs_de_cognition</td>\n",
       "    </tr>\n",
       "    <tr>\n",
       "      <td>3</td>\n",
       "      <td>658178</td>\n",
       "      <td>troubles_subjectifs_de_cognition</td>\n",
       "    </tr>\n",
       "    <tr>\n",
       "      <td>4</td>\n",
       "      <td>641853</td>\n",
       "      <td>troubles_subjectifs_de_cognition</td>\n",
       "    </tr>\n",
       "  </tbody>\n",
       "</table>\n",
       "</div>"
      ],
      "text/plain": [
       "    subID                        diagnostic\n",
       "0  327986  troubles_subjectifs_de_cognition\n",
       "1  934539  démence_de_type_alzheimer-légère\n",
       "2  368387  troubles_subjectifs_de_cognition\n",
       "3  658178  troubles_subjectifs_de_cognition\n",
       "4  641853  troubles_subjectifs_de_cognition"
      ]
     },
     "execution_count": 19,
     "metadata": {},
     "output_type": "execute_result"
    }
   ],
   "source": [
    "print(set(cimaq_diagnostic['V01 36448_diagnostic_clinique,36448_diagnostic_clinique'].values))\n",
    "cimaq_diagnostic = cimaq_diagnostic[['V01 demographics,CandID','V01 36448_diagnostic_clinique,36448_diagnostic_clinique']]\n",
    "cimaq_diagnostic.rename(columns = {\"V01 demographics,CandID\":\"subID\",\"V01 36448_diagnostic_clinique,36448_diagnostic_clinique\":\"diagnostic\" },inplace=True)\n",
    "cimaq_diagnostic.head()"
   ]
  },
  {
   "cell_type": "code",
   "execution_count": 20,
   "metadata": {},
   "outputs": [
    {
     "name": "stdout",
     "output_type": "stream",
     "text": [
      "23\n",
      "54\n"
     ]
    }
   ],
   "source": [
    "cimaq_diagnostic[\"SCD\"] = 0\n",
    "cimaq_diagnostic[\"CN\"] = 0\n",
    "subjectID_set = set([sub.split(\"sub\")[1].split(\"_\")[0] for sub in nets_rmaps[\"CER\"]])\n",
    "for i,r in cimaq_diagnostic.iterrows():\n",
    "    \n",
    "    if(str(r[\"subID\"]) in subjectID_set):\n",
    "        if(r[\"diagnostic\"] == \"troubles_subjectifs_de_cognition\"):\n",
    "            cimaq_diagnostic.loc[i,\"SCD\"] = 1\n",
    "        if(r[\"diagnostic\"] == \"cognitivement_sain_(cs)\"):\n",
    "            cimaq_diagnostic.loc[i,\"CN\"] = 1\n",
    "        cimaq_diagnostic.loc[i,\"subID\"] = str(r[\"subID\"])\n",
    "\n",
    "print(np.sum(cimaq_diagnostic[\"CN\"]))\n",
    "print(np.sum(cimaq_diagnostic[\"SCD\"]))"
   ]
  },
  {
   "cell_type": "code",
   "execution_count": 21,
   "metadata": {},
   "outputs": [],
   "source": [
    "cimaq_diagnostic = cimaq_diagnostic.loc[(cimaq_diagnostic[\"SCD\"] != 0) | (cimaq_diagnostic[\"CN\"] != 0)]"
   ]
  },
  {
   "cell_type": "code",
   "execution_count": 22,
   "metadata": {},
   "outputs": [
    {
     "data": {
      "text/html": [
       "<div>\n",
       "<style scoped>\n",
       "    .dataframe tbody tr th:only-of-type {\n",
       "        vertical-align: middle;\n",
       "    }\n",
       "\n",
       "    .dataframe tbody tr th {\n",
       "        vertical-align: top;\n",
       "    }\n",
       "\n",
       "    .dataframe thead th {\n",
       "        text-align: right;\n",
       "    }\n",
       "</style>\n",
       "<table border=\"1\" class=\"dataframe\">\n",
       "  <thead>\n",
       "    <tr style=\"text-align: right;\">\n",
       "      <th></th>\n",
       "      <th>subID</th>\n",
       "      <th>diagnostic</th>\n",
       "      <th>SCD</th>\n",
       "      <th>CN</th>\n",
       "    </tr>\n",
       "  </thead>\n",
       "  <tbody>\n",
       "    <tr>\n",
       "      <td>3</td>\n",
       "      <td>658178</td>\n",
       "      <td>troubles_subjectifs_de_cognition</td>\n",
       "      <td>1</td>\n",
       "      <td>0</td>\n",
       "    </tr>\n",
       "    <tr>\n",
       "      <td>7</td>\n",
       "      <td>920577</td>\n",
       "      <td>troubles_subjectifs_de_cognition</td>\n",
       "      <td>1</td>\n",
       "      <td>0</td>\n",
       "    </tr>\n",
       "    <tr>\n",
       "      <td>11</td>\n",
       "      <td>254530</td>\n",
       "      <td>troubles_subjectifs_de_cognition</td>\n",
       "      <td>1</td>\n",
       "      <td>0</td>\n",
       "    </tr>\n",
       "    <tr>\n",
       "      <td>20</td>\n",
       "      <td>956130</td>\n",
       "      <td>troubles_subjectifs_de_cognition</td>\n",
       "      <td>1</td>\n",
       "      <td>0</td>\n",
       "    </tr>\n",
       "    <tr>\n",
       "      <td>22</td>\n",
       "      <td>878354</td>\n",
       "      <td>troubles_subjectifs_de_cognition</td>\n",
       "      <td>1</td>\n",
       "      <td>0</td>\n",
       "    </tr>\n",
       "    <tr>\n",
       "      <td>...</td>\n",
       "      <td>...</td>\n",
       "      <td>...</td>\n",
       "      <td>...</td>\n",
       "      <td>...</td>\n",
       "    </tr>\n",
       "    <tr>\n",
       "      <td>289</td>\n",
       "      <td>437101</td>\n",
       "      <td>cognitivement_sain_(cs)</td>\n",
       "      <td>0</td>\n",
       "      <td>1</td>\n",
       "    </tr>\n",
       "    <tr>\n",
       "      <td>293</td>\n",
       "      <td>968913</td>\n",
       "      <td>troubles_subjectifs_de_cognition</td>\n",
       "      <td>1</td>\n",
       "      <td>0</td>\n",
       "    </tr>\n",
       "    <tr>\n",
       "      <td>296</td>\n",
       "      <td>785245</td>\n",
       "      <td>troubles_subjectifs_de_cognition</td>\n",
       "      <td>1</td>\n",
       "      <td>0</td>\n",
       "    </tr>\n",
       "    <tr>\n",
       "      <td>299</td>\n",
       "      <td>778749</td>\n",
       "      <td>troubles_subjectifs_de_cognition</td>\n",
       "      <td>1</td>\n",
       "      <td>0</td>\n",
       "    </tr>\n",
       "    <tr>\n",
       "      <td>313</td>\n",
       "      <td>197192</td>\n",
       "      <td>troubles_subjectifs_de_cognition</td>\n",
       "      <td>1</td>\n",
       "      <td>0</td>\n",
       "    </tr>\n",
       "  </tbody>\n",
       "</table>\n",
       "<p>77 rows × 4 columns</p>\n",
       "</div>"
      ],
      "text/plain": [
       "      subID                        diagnostic  SCD  CN\n",
       "3    658178  troubles_subjectifs_de_cognition    1   0\n",
       "7    920577  troubles_subjectifs_de_cognition    1   0\n",
       "11   254530  troubles_subjectifs_de_cognition    1   0\n",
       "20   956130  troubles_subjectifs_de_cognition    1   0\n",
       "22   878354  troubles_subjectifs_de_cognition    1   0\n",
       "..      ...                               ...  ...  ..\n",
       "289  437101           cognitivement_sain_(cs)    0   1\n",
       "293  968913  troubles_subjectifs_de_cognition    1   0\n",
       "296  785245  troubles_subjectifs_de_cognition    1   0\n",
       "299  778749  troubles_subjectifs_de_cognition    1   0\n",
       "313  197192  troubles_subjectifs_de_cognition    1   0\n",
       "\n",
       "[77 rows x 4 columns]"
      ]
     },
     "execution_count": 22,
     "metadata": {},
     "output_type": "execute_result"
    }
   ],
   "source": [
    "cimaq_diagnostic"
   ]
  },
  {
   "cell_type": "code",
   "execution_count": 27,
   "metadata": {},
   "outputs": [
    {
     "data": {
      "text/html": [
       "<div>\n",
       "<style scoped>\n",
       "    .dataframe tbody tr th:only-of-type {\n",
       "        vertical-align: middle;\n",
       "    }\n",
       "\n",
       "    .dataframe tbody tr th {\n",
       "        vertical-align: top;\n",
       "    }\n",
       "\n",
       "    .dataframe thead th {\n",
       "        text-align: right;\n",
       "    }\n",
       "</style>\n",
       "<table border=\"1\" class=\"dataframe\">\n",
       "  <thead>\n",
       "    <tr style=\"text-align: right;\">\n",
       "      <th></th>\n",
       "      <th>CN</th>\n",
       "      <th>SCD</th>\n",
       "    </tr>\n",
       "  </thead>\n",
       "  <tbody>\n",
       "    <tr>\n",
       "      <td>3</td>\n",
       "      <td>0</td>\n",
       "      <td>1</td>\n",
       "    </tr>\n",
       "    <tr>\n",
       "      <td>7</td>\n",
       "      <td>0</td>\n",
       "      <td>1</td>\n",
       "    </tr>\n",
       "    <tr>\n",
       "      <td>11</td>\n",
       "      <td>0</td>\n",
       "      <td>1</td>\n",
       "    </tr>\n",
       "    <tr>\n",
       "      <td>20</td>\n",
       "      <td>0</td>\n",
       "      <td>1</td>\n",
       "    </tr>\n",
       "    <tr>\n",
       "      <td>22</td>\n",
       "      <td>0</td>\n",
       "      <td>1</td>\n",
       "    </tr>\n",
       "    <tr>\n",
       "      <td>...</td>\n",
       "      <td>...</td>\n",
       "      <td>...</td>\n",
       "    </tr>\n",
       "    <tr>\n",
       "      <td>289</td>\n",
       "      <td>1</td>\n",
       "      <td>0</td>\n",
       "    </tr>\n",
       "    <tr>\n",
       "      <td>293</td>\n",
       "      <td>0</td>\n",
       "      <td>1</td>\n",
       "    </tr>\n",
       "    <tr>\n",
       "      <td>296</td>\n",
       "      <td>0</td>\n",
       "      <td>1</td>\n",
       "    </tr>\n",
       "    <tr>\n",
       "      <td>299</td>\n",
       "      <td>0</td>\n",
       "      <td>1</td>\n",
       "    </tr>\n",
       "    <tr>\n",
       "      <td>313</td>\n",
       "      <td>0</td>\n",
       "      <td>1</td>\n",
       "    </tr>\n",
       "  </tbody>\n",
       "</table>\n",
       "<p>77 rows × 2 columns</p>\n",
       "</div>"
      ],
      "text/plain": [
       "     CN  SCD\n",
       "3     0    1\n",
       "7     0    1\n",
       "11    0    1\n",
       "20    0    1\n",
       "22    0    1\n",
       "..   ..  ...\n",
       "289   1    0\n",
       "293   0    1\n",
       "296   0    1\n",
       "299   0    1\n",
       "313   0    1\n",
       "\n",
       "[77 rows x 2 columns]"
      ]
     },
     "execution_count": 27,
     "metadata": {},
     "output_type": "execute_result"
    }
   ],
   "source": [
    "design_matrix = cimaq_diagnostic[[\"CN\",\"SCD\"]]\n",
    "design_matrix"
   ]
  },
  {
   "cell_type": "code",
   "execution_count": 25,
   "metadata": {},
   "outputs": [],
   "source": [
    "second_level_model = SecondLevelModel().fit(\n",
    "    nets_rmaps[\"CER\"], design_matrix=design_matrix)"
   ]
  },
  {
   "cell_type": "code",
   "execution_count": 28,
   "metadata": {},
   "outputs": [
    {
     "data": {
      "text/plain": [
       "SecondLevelModel(mask_img=None, memory=Memory(location=None), memory_level=1,\n",
       "                 minimize_memory=True, n_jobs=1, smoothing_fwhm=None,\n",
       "                 verbose=0)"
      ]
     },
     "execution_count": 28,
     "metadata": {},
     "output_type": "execute_result"
    }
   ],
   "source": [
    "second_level_model"
   ]
  },
  {
   "cell_type": "code",
   "execution_count": null,
   "metadata": {},
   "outputs": [],
   "source": []
  }
 ],
 "metadata": {
  "kernelspec": {
   "display_name": "hanad_env",
   "language": "python",
   "name": "hanad_env"
  },
  "language_info": {
   "codemirror_mode": {
    "name": "ipython",
    "version": 3
   },
   "file_extension": ".py",
   "mimetype": "text/x-python",
   "name": "python",
   "nbconvert_exporter": "python",
   "pygments_lexer": "ipython3",
   "version": "3.7.4"
  }
 },
 "nbformat": 4,
 "nbformat_minor": 2
}
