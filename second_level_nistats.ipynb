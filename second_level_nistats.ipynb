{
 "cells": [
  {
   "cell_type": "code",
   "execution_count": 1,
   "metadata": {},
   "outputs": [
    {
     "name": "stderr",
     "output_type": "stream",
     "text": [
      "/data/softwares/anaconda3/2019.10/lib/python3.7/site-packages/sklearn/externals/joblib/__init__.py:15: DeprecationWarning: sklearn.externals.joblib is deprecated in 0.21 and will be removed in 0.23. Please import this functionality directly from joblib, which can be installed with: pip install joblib. If this warning is raised when loading pickled models, you may need to re-serialize those models with scikit-learn 0.21+.\n",
      "  warnings.warn(msg, category=DeprecationWarning)\n"
     ]
    }
   ],
   "source": [
    "import glob\n",
    "import pandas as pd\n",
    "import nibabel as nb\n",
    "import numpy as np\n",
    "from nistats.second_level_model import SecondLevelModel"
   ]
  },
  {
   "cell_type": "code",
   "execution_count": 19,
   "metadata": {},
   "outputs": [],
   "source": [
    "networks = ['CER','LIM','MOT','VIS','DMN','FP','VATT_SAL']\n",
    "\n",
    "nets_rmaps = {}\n",
    "\n",
    "for net in networks:\n",
    "    connectivity_maps = glob.glob(\"../rest/rmap_seeds/*sub*_\"+net+\".nii.gz\")\n",
    "    rmap_list = []\n",
    "    for rmap in connectivity_maps:\n",
    "        rmap_list.append(rmap)\n",
    "    nets_rmaps[net] = rmap_list\n",
    "        "
   ]
  },
  {
   "cell_type": "code",
   "execution_count": 20,
   "metadata": {},
   "outputs": [
    {
     "data": {
      "text/plain": [
       "dict_keys(['CER', 'LIM', 'MOT', 'VIS', 'DMN', 'FP', 'VATT_SAL'])"
      ]
     },
     "execution_count": 20,
     "metadata": {},
     "output_type": "execute_result"
    }
   ],
   "source": [
    "nets_rmaps.keys()"
   ]
  },
  {
   "cell_type": "code",
   "execution_count": 21,
   "metadata": {},
   "outputs": [],
   "source": [
    "network_interest = \"DMN\""
   ]
  },
  {
   "cell_type": "code",
   "execution_count": 22,
   "metadata": {},
   "outputs": [
    {
     "name": "stdout",
     "output_type": "stream",
     "text": [
      "Index(['Identifiers',\n",
      "       'V01 36448_diagnostic_clinique,36448_diagnostic_clinique',\n",
      "       'V07 50658_diagnostic_clinique_2ans,50658_diagnostic_clinique',\n",
      "       'V01 demographics,CandID'],\n",
      "      dtype='object')\n"
     ]
    }
   ],
   "source": [
    "cimaq_diagnostic = '../../cimaq_csv/cimaq_diagnostic_Nov_2019.csv'\n",
    "cimaq_diagnostic = pd.read_csv(cimaq_diagnostic)\n",
    "print(cimaq_diagnostic.columns)"
   ]
  },
  {
   "cell_type": "code",
   "execution_count": 23,
   "metadata": {},
   "outputs": [
    {
     "name": "stdout",
     "output_type": "stream",
     "text": [
      "{'trouble_cognitif_léger_précoce', 'cognitivement_sain_(cs)', 'trouble_cognitif_léger_tardif', 'démence_de_type_alzheimer-légère', 'troubles_subjectifs_de_cognition'}\n"
     ]
    },
    {
     "data": {
      "text/html": [
       "<div>\n",
       "<style scoped>\n",
       "    .dataframe tbody tr th:only-of-type {\n",
       "        vertical-align: middle;\n",
       "    }\n",
       "\n",
       "    .dataframe tbody tr th {\n",
       "        vertical-align: top;\n",
       "    }\n",
       "\n",
       "    .dataframe thead th {\n",
       "        text-align: right;\n",
       "    }\n",
       "</style>\n",
       "<table border=\"1\" class=\"dataframe\">\n",
       "  <thead>\n",
       "    <tr style=\"text-align: right;\">\n",
       "      <th></th>\n",
       "      <th>subID</th>\n",
       "      <th>diagnostic</th>\n",
       "    </tr>\n",
       "  </thead>\n",
       "  <tbody>\n",
       "    <tr>\n",
       "      <td>0</td>\n",
       "      <td>327986</td>\n",
       "      <td>troubles_subjectifs_de_cognition</td>\n",
       "    </tr>\n",
       "    <tr>\n",
       "      <td>1</td>\n",
       "      <td>934539</td>\n",
       "      <td>démence_de_type_alzheimer-légère</td>\n",
       "    </tr>\n",
       "    <tr>\n",
       "      <td>2</td>\n",
       "      <td>368387</td>\n",
       "      <td>troubles_subjectifs_de_cognition</td>\n",
       "    </tr>\n",
       "    <tr>\n",
       "      <td>3</td>\n",
       "      <td>658178</td>\n",
       "      <td>troubles_subjectifs_de_cognition</td>\n",
       "    </tr>\n",
       "    <tr>\n",
       "      <td>4</td>\n",
       "      <td>641853</td>\n",
       "      <td>troubles_subjectifs_de_cognition</td>\n",
       "    </tr>\n",
       "  </tbody>\n",
       "</table>\n",
       "</div>"
      ],
      "text/plain": [
       "    subID                        diagnostic\n",
       "0  327986  troubles_subjectifs_de_cognition\n",
       "1  934539  démence_de_type_alzheimer-légère\n",
       "2  368387  troubles_subjectifs_de_cognition\n",
       "3  658178  troubles_subjectifs_de_cognition\n",
       "4  641853  troubles_subjectifs_de_cognition"
      ]
     },
     "execution_count": 23,
     "metadata": {},
     "output_type": "execute_result"
    }
   ],
   "source": [
    "print(set(cimaq_diagnostic['V01 36448_diagnostic_clinique,36448_diagnostic_clinique'].values))\n",
    "cimaq_diagnostic = cimaq_diagnostic[['V01 demographics,CandID','V01 36448_diagnostic_clinique,36448_diagnostic_clinique']]\n",
    "cimaq_diagnostic.rename(columns = {\"V01 demographics,CandID\":\"subID\",\"V01 36448_diagnostic_clinique,36448_diagnostic_clinique\":\"diagnostic\" },inplace=True)\n",
    "cimaq_diagnostic.head()"
   ]
  },
  {
   "cell_type": "code",
   "execution_count": 24,
   "metadata": {},
   "outputs": [
    {
     "data": {
      "text/plain": [
       "(314, 2)"
      ]
     },
     "execution_count": 24,
     "metadata": {},
     "output_type": "execute_result"
    }
   ],
   "source": [
    "cimaq_diagnostic.shape"
   ]
  },
  {
   "cell_type": "code",
   "execution_count": 39,
   "metadata": {},
   "outputs": [
    {
     "data": {
      "text/plain": [
       "['../rest/rmap_seeds/rmap_sub490035_DMN.nii.gz',\n",
       " '../rest/rmap_seeds/rmap_sub430653_DMN.nii.gz',\n",
       " '../rest/rmap_seeds/rmap_sub484204_DMN.nii.gz',\n",
       " '../rest/rmap_seeds/rmap_sub956049_DMN.nii.gz',\n",
       " '../rest/rmap_seeds/rmap_sub267168_DMN.nii.gz',\n",
       " '../rest/rmap_seeds/rmap_sub983291_DMN.nii.gz',\n",
       " '../rest/rmap_seeds/rmap_sub385370_DMN.nii.gz',\n",
       " '../rest/rmap_seeds/rmap_sub462345_DMN.nii.gz',\n",
       " '../rest/rmap_seeds/rmap_sub920050_DMN.nii.gz',\n",
       " '../rest/rmap_seeds/rmap_sub122922_DMN.nii.gz',\n",
       " '../rest/rmap_seeds/rmap_sub258618_DMN.nii.gz',\n",
       " '../rest/rmap_seeds/rmap_sub255499_DMN.nii.gz',\n",
       " '../rest/rmap_seeds/rmap_sub314409_DMN.nii.gz',\n",
       " '../rest/rmap_seeds/rmap_sub549994_DMN.nii.gz',\n",
       " '../rest/rmap_seeds/rmap_sub998166_DMN.nii.gz',\n",
       " '../rest/rmap_seeds/rmap_sub668786_DMN.nii.gz',\n",
       " '../rest/rmap_seeds/rmap_sub271596_DMN.nii.gz',\n",
       " '../rest/rmap_seeds/rmap_sub932933_DMN.nii.gz',\n",
       " '../rest/rmap_seeds/rmap_sub936730_DMN.nii.gz',\n",
       " '../rest/rmap_seeds/rmap_sub884343_DMN.nii.gz',\n",
       " '../rest/rmap_seeds/rmap_sub403131_DMN.nii.gz',\n",
       " '../rest/rmap_seeds/rmap_sub373285_DMN.nii.gz',\n",
       " '../rest/rmap_seeds/rmap_sub401205_DMN.nii.gz',\n",
       " '../rest/rmap_seeds/rmap_sub427357_DMN.nii.gz',\n",
       " '../rest/rmap_seeds/rmap_sub562245_DMN.nii.gz',\n",
       " '../rest/rmap_seeds/rmap_sub920577_DMN.nii.gz',\n",
       " '../rest/rmap_seeds/rmap_sub270218_DMN.nii.gz',\n",
       " '../rest/rmap_seeds/rmap_sub677561_DMN.nii.gz',\n",
       " '../rest/rmap_seeds/rmap_sub175295_DMN.nii.gz',\n",
       " '../rest/rmap_seeds/rmap_sub988602_DMN.nii.gz',\n",
       " '../rest/rmap_seeds/rmap_sub254530_DMN.nii.gz',\n",
       " '../rest/rmap_seeds/rmap_sub652850_DMN.nii.gz',\n",
       " '../rest/rmap_seeds/rmap_sub893978_DMN.nii.gz',\n",
       " '../rest/rmap_seeds/rmap_sub785245_DMN.nii.gz',\n",
       " '../rest/rmap_seeds/rmap_sub199801_DMN.nii.gz',\n",
       " '../rest/rmap_seeds/rmap_sub150649_DMN.nii.gz',\n",
       " '../rest/rmap_seeds/rmap_sub915022_DMN.nii.gz',\n",
       " '../rest/rmap_seeds/rmap_sub711830_DMN.nii.gz',\n",
       " '../rest/rmap_seeds/rmap_sub520377_DMN.nii.gz',\n",
       " '../rest/rmap_seeds/rmap_sub396250_DMN.nii.gz',\n",
       " '../rest/rmap_seeds/rmap_sub197192_DMN.nii.gz',\n",
       " '../rest/rmap_seeds/rmap_sub640283_DMN.nii.gz',\n",
       " '../rest/rmap_seeds/rmap_sub370092_DMN.nii.gz',\n",
       " '../rest/rmap_seeds/rmap_sub402979_DMN.nii.gz',\n",
       " '../rest/rmap_seeds/rmap_sub441008_DMN.nii.gz',\n",
       " '../rest/rmap_seeds/rmap_sub567214_DMN.nii.gz',\n",
       " '../rest/rmap_seeds/rmap_sub229301_DMN.nii.gz',\n",
       " '../rest/rmap_seeds/rmap_sub878652_DMN.nii.gz',\n",
       " '../rest/rmap_seeds/rmap_sub467954_DMN.nii.gz',\n",
       " '../rest/rmap_seeds/rmap_sub164965_DMN.nii.gz',\n",
       " '../rest/rmap_seeds/rmap_sub906145_DMN.nii.gz',\n",
       " '../rest/rmap_seeds/rmap_sub337021_DMN.nii.gz',\n",
       " '../rest/rmap_seeds/rmap_sub968913_DMN.nii.gz',\n",
       " '../rest/rmap_seeds/rmap_sub444580_DMN.nii.gz',\n",
       " '../rest/rmap_seeds/rmap_sub748676_DMN.nii.gz',\n",
       " '../rest/rmap_seeds/rmap_sub996599_DMN.nii.gz',\n",
       " '../rest/rmap_seeds/rmap_sub247659_DMN.nii.gz',\n",
       " '../rest/rmap_seeds/rmap_sub543589_DMN.nii.gz',\n",
       " '../rest/rmap_seeds/rmap_sub901551_DMN.nii.gz',\n",
       " '../rest/rmap_seeds/rmap_sub944698_DMN.nii.gz',\n",
       " '../rest/rmap_seeds/rmap_sub336665_DMN.nii.gz',\n",
       " '../rest/rmap_seeds/rmap_sub437101_DMN.nii.gz',\n",
       " '../rest/rmap_seeds/rmap_sub886007_DMN.nii.gz',\n",
       " '../rest/rmap_seeds/rmap_sub979001_DMN.nii.gz',\n",
       " '../rest/rmap_seeds/rmap_sub324734_DMN.nii.gz',\n",
       " '../rest/rmap_seeds/rmap_sub923391_DMN.nii.gz',\n",
       " '../rest/rmap_seeds/rmap_sub254402_DMN.nii.gz',\n",
       " '../rest/rmap_seeds/rmap_sub195287_DMN.nii.gz',\n",
       " '../rest/rmap_seeds/rmap_sub127228_DMN.nii.gz',\n",
       " '../rest/rmap_seeds/rmap_sub853115_DMN.nii.gz',\n",
       " '../rest/rmap_seeds/rmap_sub754026_DMN.nii.gz',\n",
       " '../rest/rmap_seeds/rmap_sub917530_DMN.nii.gz',\n",
       " '../rest/rmap_seeds/rmap_sub628513_DMN.nii.gz',\n",
       " '../rest/rmap_seeds/rmap_sub778749_DMN.nii.gz',\n",
       " '../rest/rmap_seeds/rmap_sub326073_DMN.nii.gz',\n",
       " '../rest/rmap_seeds/rmap_sub258912_DMN.nii.gz',\n",
       " '../rest/rmap_seeds/rmap_sub120839_DMN.nii.gz',\n",
       " '../rest/rmap_seeds/rmap_sub463105_DMN.nii.gz',\n",
       " '../rest/rmap_seeds/rmap_sub974246_DMN.nii.gz',\n",
       " '../rest/rmap_seeds/rmap_sub517070_DMN.nii.gz',\n",
       " '../rest/rmap_seeds/rmap_sub878354_DMN.nii.gz',\n",
       " '../rest/rmap_seeds/rmap_sub659068_DMN.nii.gz',\n",
       " '../rest/rmap_seeds/rmap_sub560180_DMN.nii.gz',\n",
       " '../rest/rmap_seeds/rmap_sub502616_DMN.nii.gz',\n",
       " '../rest/rmap_seeds/rmap_sub548404_DMN.nii.gz',\n",
       " '../rest/rmap_seeds/rmap_sub851050_DMN.nii.gz',\n",
       " '../rest/rmap_seeds/rmap_sub421163_DMN.nii.gz',\n",
       " '../rest/rmap_seeds/rmap_sub388174_DMN.nii.gz',\n",
       " '../rest/rmap_seeds/rmap_sub804743_DMN.nii.gz',\n",
       " '../rest/rmap_seeds/rmap_sub597569_DMN.nii.gz',\n",
       " '../rest/rmap_seeds/rmap_sub139593_DMN.nii.gz',\n",
       " '../rest/rmap_seeds/rmap_sub413474_DMN.nii.gz',\n",
       " '../rest/rmap_seeds/rmap_sub628299_DMN.nii.gz',\n",
       " '../rest/rmap_seeds/rmap_sub651050_DMN.nii.gz',\n",
       " '../rest/rmap_seeds/rmap_sub938001_DMN.nii.gz',\n",
       " '../rest/rmap_seeds/rmap_sub459801_DMN.nii.gz',\n",
       " '../rest/rmap_seeds/rmap_sub637798_DMN.nii.gz',\n",
       " '../rest/rmap_seeds/rmap_sub658178_DMN.nii.gz',\n",
       " '../rest/rmap_seeds/rmap_sub288654_DMN.nii.gz',\n",
       " '../rest/rmap_seeds/rmap_sub783781_DMN.nii.gz',\n",
       " '../rest/rmap_seeds/rmap_sub584267_DMN.nii.gz',\n",
       " '../rest/rmap_seeds/rmap_sub108391_DMN.nii.gz',\n",
       " '../rest/rmap_seeds/rmap_sub318809_DMN.nii.gz',\n",
       " '../rest/rmap_seeds/rmap_sub439776_DMN.nii.gz',\n",
       " '../rest/rmap_seeds/rmap_sub458807_DMN.nii.gz',\n",
       " '../rest/rmap_seeds/rmap_sub763590_DMN.nii.gz',\n",
       " '../rest/rmap_seeds/rmap_sub785217_DMN.nii.gz',\n",
       " '../rest/rmap_seeds/rmap_sub219637_DMN.nii.gz',\n",
       " '../rest/rmap_seeds/rmap_sub956130_DMN.nii.gz',\n",
       " '../rest/rmap_seeds/rmap_sub587006_DMN.nii.gz',\n",
       " '../rest/rmap_seeds/rmap_sub350555_DMN.nii.gz',\n",
       " '../rest/rmap_seeds/rmap_sub924191_DMN.nii.gz']"
      ]
     },
     "execution_count": 39,
     "metadata": {},
     "output_type": "execute_result"
    }
   ],
   "source": [
    "nets_rmaps[network_interest]"
   ]
  },
  {
   "cell_type": "code",
   "execution_count": 28,
   "metadata": {},
   "outputs": [
    {
     "name": "stdout",
     "output_type": "stream",
     "text": [
      "23\n",
      "54\n"
     ]
    }
   ],
   "source": [
    "cimaq_diagnostic[\"SCD\"] = 0\n",
    "cimaq_diagnostic[\"CN\"] = 0\n",
    "subjectID_set = set([sub.split(\"sub\")[1].split(\"_\")[0] for sub in nets_rmaps[\"CER\"]])\n",
    "for i,r in cimaq_diagnostic.iterrows():\n",
    "    \n",
    "    if(str(r[\"subID\"]) in subjectID_set):\n",
    "        if(r[\"diagnostic\"] == \"troubles_subjectifs_de_cognition\"):\n",
    "            cimaq_diagnostic.loc[i,\"SCD\"] = 1\n",
    "        if(r[\"diagnostic\"] == \"cognitivement_sain_(cs)\"):\n",
    "            cimaq_diagnostic.loc[i,\"CN\"] = 1\n",
    "        cimaq_diagnostic.loc[i,\"subID\"] = str(r[\"subID\"])\n",
    "        \n",
    "     \n",
    "\n",
    "print(np.sum(cimaq_diagnostic[\"CN\"]))\n",
    "print(np.sum(cimaq_diagnostic[\"SCD\"]))"
   ]
  },
  {
   "cell_type": "code",
   "execution_count": 29,
   "metadata": {},
   "outputs": [],
   "source": [
    "cimaq_diagnostic = cimaq_diagnostic.loc[(cimaq_diagnostic[\"SCD\"] != 0) | (cimaq_diagnostic[\"CN\"] != 0)]"
   ]
  },
  {
   "cell_type": "code",
   "execution_count": 30,
   "metadata": {},
   "outputs": [
    {
     "data": {
      "text/html": [
       "<div>\n",
       "<style scoped>\n",
       "    .dataframe tbody tr th:only-of-type {\n",
       "        vertical-align: middle;\n",
       "    }\n",
       "\n",
       "    .dataframe tbody tr th {\n",
       "        vertical-align: top;\n",
       "    }\n",
       "\n",
       "    .dataframe thead th {\n",
       "        text-align: right;\n",
       "    }\n",
       "</style>\n",
       "<table border=\"1\" class=\"dataframe\">\n",
       "  <thead>\n",
       "    <tr style=\"text-align: right;\">\n",
       "      <th></th>\n",
       "      <th>subID</th>\n",
       "      <th>diagnostic</th>\n",
       "      <th>SCD</th>\n",
       "      <th>CN</th>\n",
       "    </tr>\n",
       "  </thead>\n",
       "  <tbody>\n",
       "    <tr>\n",
       "      <td>3</td>\n",
       "      <td>658178</td>\n",
       "      <td>troubles_subjectifs_de_cognition</td>\n",
       "      <td>1</td>\n",
       "      <td>0</td>\n",
       "    </tr>\n",
       "    <tr>\n",
       "      <td>7</td>\n",
       "      <td>920577</td>\n",
       "      <td>troubles_subjectifs_de_cognition</td>\n",
       "      <td>1</td>\n",
       "      <td>0</td>\n",
       "    </tr>\n",
       "    <tr>\n",
       "      <td>11</td>\n",
       "      <td>254530</td>\n",
       "      <td>troubles_subjectifs_de_cognition</td>\n",
       "      <td>1</td>\n",
       "      <td>0</td>\n",
       "    </tr>\n",
       "    <tr>\n",
       "      <td>20</td>\n",
       "      <td>956130</td>\n",
       "      <td>troubles_subjectifs_de_cognition</td>\n",
       "      <td>1</td>\n",
       "      <td>0</td>\n",
       "    </tr>\n",
       "    <tr>\n",
       "      <td>22</td>\n",
       "      <td>878354</td>\n",
       "      <td>troubles_subjectifs_de_cognition</td>\n",
       "      <td>1</td>\n",
       "      <td>0</td>\n",
       "    </tr>\n",
       "    <tr>\n",
       "      <td>...</td>\n",
       "      <td>...</td>\n",
       "      <td>...</td>\n",
       "      <td>...</td>\n",
       "      <td>...</td>\n",
       "    </tr>\n",
       "    <tr>\n",
       "      <td>289</td>\n",
       "      <td>437101</td>\n",
       "      <td>cognitivement_sain_(cs)</td>\n",
       "      <td>0</td>\n",
       "      <td>1</td>\n",
       "    </tr>\n",
       "    <tr>\n",
       "      <td>293</td>\n",
       "      <td>968913</td>\n",
       "      <td>troubles_subjectifs_de_cognition</td>\n",
       "      <td>1</td>\n",
       "      <td>0</td>\n",
       "    </tr>\n",
       "    <tr>\n",
       "      <td>296</td>\n",
       "      <td>785245</td>\n",
       "      <td>troubles_subjectifs_de_cognition</td>\n",
       "      <td>1</td>\n",
       "      <td>0</td>\n",
       "    </tr>\n",
       "    <tr>\n",
       "      <td>299</td>\n",
       "      <td>778749</td>\n",
       "      <td>troubles_subjectifs_de_cognition</td>\n",
       "      <td>1</td>\n",
       "      <td>0</td>\n",
       "    </tr>\n",
       "    <tr>\n",
       "      <td>313</td>\n",
       "      <td>197192</td>\n",
       "      <td>troubles_subjectifs_de_cognition</td>\n",
       "      <td>1</td>\n",
       "      <td>0</td>\n",
       "    </tr>\n",
       "  </tbody>\n",
       "</table>\n",
       "<p>77 rows × 4 columns</p>\n",
       "</div>"
      ],
      "text/plain": [
       "      subID                        diagnostic  SCD  CN\n",
       "3    658178  troubles_subjectifs_de_cognition    1   0\n",
       "7    920577  troubles_subjectifs_de_cognition    1   0\n",
       "11   254530  troubles_subjectifs_de_cognition    1   0\n",
       "20   956130  troubles_subjectifs_de_cognition    1   0\n",
       "22   878354  troubles_subjectifs_de_cognition    1   0\n",
       "..      ...                               ...  ...  ..\n",
       "289  437101           cognitivement_sain_(cs)    0   1\n",
       "293  968913  troubles_subjectifs_de_cognition    1   0\n",
       "296  785245  troubles_subjectifs_de_cognition    1   0\n",
       "299  778749  troubles_subjectifs_de_cognition    1   0\n",
       "313  197192  troubles_subjectifs_de_cognition    1   0\n",
       "\n",
       "[77 rows x 4 columns]"
      ]
     },
     "execution_count": 30,
     "metadata": {},
     "output_type": "execute_result"
    }
   ],
   "source": [
    "cimaq_diagnostic"
   ]
  },
  {
   "cell_type": "code",
   "execution_count": 33,
   "metadata": {},
   "outputs": [
    {
     "data": {
      "text/plain": [
       "array([[0],\n",
       "       [0],\n",
       "       [0],\n",
       "       [0],\n",
       "       [0],\n",
       "       [1],\n",
       "       [0],\n",
       "       [0],\n",
       "       [0],\n",
       "       [0],\n",
       "       [0],\n",
       "       [1],\n",
       "       [0],\n",
       "       [0],\n",
       "       [0],\n",
       "       [0],\n",
       "       [1],\n",
       "       [0],\n",
       "       [1],\n",
       "       [0],\n",
       "       [0],\n",
       "       [0],\n",
       "       [1],\n",
       "       [1],\n",
       "       [0],\n",
       "       [1],\n",
       "       [0],\n",
       "       [0],\n",
       "       [0],\n",
       "       [1],\n",
       "       [0],\n",
       "       [0],\n",
       "       [0],\n",
       "       [1],\n",
       "       [0],\n",
       "       [0],\n",
       "       [0],\n",
       "       [0],\n",
       "       [0],\n",
       "       [0],\n",
       "       [0],\n",
       "       [0],\n",
       "       [0],\n",
       "       [0],\n",
       "       [0],\n",
       "       [0],\n",
       "       [0],\n",
       "       [0],\n",
       "       [0],\n",
       "       [0],\n",
       "       [0],\n",
       "       [0],\n",
       "       [0],\n",
       "       [1],\n",
       "       [0],\n",
       "       [1],\n",
       "       [1],\n",
       "       [1],\n",
       "       [1],\n",
       "       [0],\n",
       "       [1],\n",
       "       [1],\n",
       "       [1],\n",
       "       [0],\n",
       "       [0],\n",
       "       [0],\n",
       "       [1],\n",
       "       [1],\n",
       "       [0],\n",
       "       [1],\n",
       "       [1],\n",
       "       [1],\n",
       "       [1],\n",
       "       [0],\n",
       "       [0],\n",
       "       [0],\n",
       "       [0]])"
      ]
     },
     "execution_count": 33,
     "metadata": {},
     "output_type": "execute_result"
    }
   ],
   "source": [
    "design_matrix = cimaq_diagnostic[[\"CN\"]]\n",
    "design_matrix.values"
   ]
  },
  {
   "cell_type": "code",
   "execution_count": null,
   "metadata": {},
   "outputs": [],
   "source": []
  },
  {
   "cell_type": "code",
   "execution_count": 58,
   "metadata": {},
   "outputs": [
    {
     "data": {
      "text/plain": [
       "nistats.second_level_model.SecondLevelModel"
      ]
     },
     "execution_count": 58,
     "metadata": {},
     "output_type": "execute_result"
    }
   ],
   "source": [
    "type(second_level_model)"
   ]
  },
  {
   "cell_type": "code",
   "execution_count": 59,
   "metadata": {},
   "outputs": [],
   "source": [
    "#z_map = second_level_model.compute_contrast(output_type='z_score')"
   ]
  },
  {
   "cell_type": "code",
   "execution_count": 60,
   "metadata": {},
   "outputs": [],
   "source": [
    "rmaps = nets_rmaps[network_interest]"
   ]
  },
  {
   "cell_type": "code",
   "execution_count": 61,
   "metadata": {},
   "outputs": [
    {
     "data": {
      "text/plain": [
       "['../rest/rmap_seeds/rmap_sub490035_DMN.nii.gz',\n",
       " '../rest/rmap_seeds/rmap_sub430653_DMN.nii.gz',\n",
       " '../rest/rmap_seeds/rmap_sub484204_DMN.nii.gz',\n",
       " '../rest/rmap_seeds/rmap_sub956049_DMN.nii.gz',\n",
       " '../rest/rmap_seeds/rmap_sub267168_DMN.nii.gz',\n",
       " '../rest/rmap_seeds/rmap_sub983291_DMN.nii.gz',\n",
       " '../rest/rmap_seeds/rmap_sub385370_DMN.nii.gz',\n",
       " '../rest/rmap_seeds/rmap_sub462345_DMN.nii.gz',\n",
       " '../rest/rmap_seeds/rmap_sub920050_DMN.nii.gz',\n",
       " '../rest/rmap_seeds/rmap_sub122922_DMN.nii.gz',\n",
       " '../rest/rmap_seeds/rmap_sub258618_DMN.nii.gz',\n",
       " '../rest/rmap_seeds/rmap_sub255499_DMN.nii.gz',\n",
       " '../rest/rmap_seeds/rmap_sub314409_DMN.nii.gz',\n",
       " '../rest/rmap_seeds/rmap_sub549994_DMN.nii.gz',\n",
       " '../rest/rmap_seeds/rmap_sub998166_DMN.nii.gz',\n",
       " '../rest/rmap_seeds/rmap_sub668786_DMN.nii.gz',\n",
       " '../rest/rmap_seeds/rmap_sub271596_DMN.nii.gz',\n",
       " '../rest/rmap_seeds/rmap_sub932933_DMN.nii.gz',\n",
       " '../rest/rmap_seeds/rmap_sub936730_DMN.nii.gz',\n",
       " '../rest/rmap_seeds/rmap_sub884343_DMN.nii.gz',\n",
       " '../rest/rmap_seeds/rmap_sub403131_DMN.nii.gz',\n",
       " '../rest/rmap_seeds/rmap_sub373285_DMN.nii.gz',\n",
       " '../rest/rmap_seeds/rmap_sub401205_DMN.nii.gz',\n",
       " '../rest/rmap_seeds/rmap_sub427357_DMN.nii.gz',\n",
       " '../rest/rmap_seeds/rmap_sub562245_DMN.nii.gz',\n",
       " '../rest/rmap_seeds/rmap_sub920577_DMN.nii.gz',\n",
       " '../rest/rmap_seeds/rmap_sub270218_DMN.nii.gz',\n",
       " '../rest/rmap_seeds/rmap_sub677561_DMN.nii.gz',\n",
       " '../rest/rmap_seeds/rmap_sub175295_DMN.nii.gz',\n",
       " '../rest/rmap_seeds/rmap_sub988602_DMN.nii.gz',\n",
       " '../rest/rmap_seeds/rmap_sub254530_DMN.nii.gz',\n",
       " '../rest/rmap_seeds/rmap_sub652850_DMN.nii.gz',\n",
       " '../rest/rmap_seeds/rmap_sub893978_DMN.nii.gz',\n",
       " '../rest/rmap_seeds/rmap_sub785245_DMN.nii.gz',\n",
       " '../rest/rmap_seeds/rmap_sub199801_DMN.nii.gz',\n",
       " '../rest/rmap_seeds/rmap_sub150649_DMN.nii.gz',\n",
       " '../rest/rmap_seeds/rmap_sub915022_DMN.nii.gz',\n",
       " '../rest/rmap_seeds/rmap_sub711830_DMN.nii.gz',\n",
       " '../rest/rmap_seeds/rmap_sub520377_DMN.nii.gz',\n",
       " '../rest/rmap_seeds/rmap_sub396250_DMN.nii.gz',\n",
       " '../rest/rmap_seeds/rmap_sub197192_DMN.nii.gz',\n",
       " '../rest/rmap_seeds/rmap_sub640283_DMN.nii.gz',\n",
       " '../rest/rmap_seeds/rmap_sub370092_DMN.nii.gz',\n",
       " '../rest/rmap_seeds/rmap_sub402979_DMN.nii.gz',\n",
       " '../rest/rmap_seeds/rmap_sub441008_DMN.nii.gz',\n",
       " '../rest/rmap_seeds/rmap_sub567214_DMN.nii.gz',\n",
       " '../rest/rmap_seeds/rmap_sub229301_DMN.nii.gz',\n",
       " '../rest/rmap_seeds/rmap_sub878652_DMN.nii.gz',\n",
       " '../rest/rmap_seeds/rmap_sub467954_DMN.nii.gz',\n",
       " '../rest/rmap_seeds/rmap_sub164965_DMN.nii.gz',\n",
       " '../rest/rmap_seeds/rmap_sub906145_DMN.nii.gz',\n",
       " '../rest/rmap_seeds/rmap_sub337021_DMN.nii.gz',\n",
       " '../rest/rmap_seeds/rmap_sub968913_DMN.nii.gz',\n",
       " '../rest/rmap_seeds/rmap_sub444580_DMN.nii.gz',\n",
       " '../rest/rmap_seeds/rmap_sub748676_DMN.nii.gz',\n",
       " '../rest/rmap_seeds/rmap_sub996599_DMN.nii.gz',\n",
       " '../rest/rmap_seeds/rmap_sub247659_DMN.nii.gz',\n",
       " '../rest/rmap_seeds/rmap_sub543589_DMN.nii.gz',\n",
       " '../rest/rmap_seeds/rmap_sub901551_DMN.nii.gz',\n",
       " '../rest/rmap_seeds/rmap_sub944698_DMN.nii.gz',\n",
       " '../rest/rmap_seeds/rmap_sub336665_DMN.nii.gz',\n",
       " '../rest/rmap_seeds/rmap_sub437101_DMN.nii.gz',\n",
       " '../rest/rmap_seeds/rmap_sub886007_DMN.nii.gz',\n",
       " '../rest/rmap_seeds/rmap_sub979001_DMN.nii.gz',\n",
       " '../rest/rmap_seeds/rmap_sub324734_DMN.nii.gz',\n",
       " '../rest/rmap_seeds/rmap_sub923391_DMN.nii.gz',\n",
       " '../rest/rmap_seeds/rmap_sub254402_DMN.nii.gz',\n",
       " '../rest/rmap_seeds/rmap_sub195287_DMN.nii.gz',\n",
       " '../rest/rmap_seeds/rmap_sub127228_DMN.nii.gz',\n",
       " '../rest/rmap_seeds/rmap_sub853115_DMN.nii.gz',\n",
       " '../rest/rmap_seeds/rmap_sub754026_DMN.nii.gz',\n",
       " '../rest/rmap_seeds/rmap_sub917530_DMN.nii.gz',\n",
       " '../rest/rmap_seeds/rmap_sub628513_DMN.nii.gz',\n",
       " '../rest/rmap_seeds/rmap_sub778749_DMN.nii.gz',\n",
       " '../rest/rmap_seeds/rmap_sub326073_DMN.nii.gz',\n",
       " '../rest/rmap_seeds/rmap_sub258912_DMN.nii.gz',\n",
       " '../rest/rmap_seeds/rmap_sub120839_DMN.nii.gz',\n",
       " '../rest/rmap_seeds/rmap_sub463105_DMN.nii.gz',\n",
       " '../rest/rmap_seeds/rmap_sub974246_DMN.nii.gz',\n",
       " '../rest/rmap_seeds/rmap_sub517070_DMN.nii.gz',\n",
       " '../rest/rmap_seeds/rmap_sub878354_DMN.nii.gz',\n",
       " '../rest/rmap_seeds/rmap_sub659068_DMN.nii.gz',\n",
       " '../rest/rmap_seeds/rmap_sub560180_DMN.nii.gz',\n",
       " '../rest/rmap_seeds/rmap_sub502616_DMN.nii.gz',\n",
       " '../rest/rmap_seeds/rmap_sub548404_DMN.nii.gz',\n",
       " '../rest/rmap_seeds/rmap_sub851050_DMN.nii.gz',\n",
       " '../rest/rmap_seeds/rmap_sub421163_DMN.nii.gz',\n",
       " '../rest/rmap_seeds/rmap_sub388174_DMN.nii.gz',\n",
       " '../rest/rmap_seeds/rmap_sub804743_DMN.nii.gz',\n",
       " '../rest/rmap_seeds/rmap_sub597569_DMN.nii.gz',\n",
       " '../rest/rmap_seeds/rmap_sub139593_DMN.nii.gz',\n",
       " '../rest/rmap_seeds/rmap_sub413474_DMN.nii.gz',\n",
       " '../rest/rmap_seeds/rmap_sub628299_DMN.nii.gz',\n",
       " '../rest/rmap_seeds/rmap_sub651050_DMN.nii.gz',\n",
       " '../rest/rmap_seeds/rmap_sub938001_DMN.nii.gz',\n",
       " '../rest/rmap_seeds/rmap_sub459801_DMN.nii.gz',\n",
       " '../rest/rmap_seeds/rmap_sub637798_DMN.nii.gz',\n",
       " '../rest/rmap_seeds/rmap_sub658178_DMN.nii.gz',\n",
       " '../rest/rmap_seeds/rmap_sub288654_DMN.nii.gz',\n",
       " '../rest/rmap_seeds/rmap_sub783781_DMN.nii.gz',\n",
       " '../rest/rmap_seeds/rmap_sub584267_DMN.nii.gz',\n",
       " '../rest/rmap_seeds/rmap_sub108391_DMN.nii.gz',\n",
       " '../rest/rmap_seeds/rmap_sub318809_DMN.nii.gz',\n",
       " '../rest/rmap_seeds/rmap_sub439776_DMN.nii.gz',\n",
       " '../rest/rmap_seeds/rmap_sub458807_DMN.nii.gz',\n",
       " '../rest/rmap_seeds/rmap_sub763590_DMN.nii.gz',\n",
       " '../rest/rmap_seeds/rmap_sub785217_DMN.nii.gz',\n",
       " '../rest/rmap_seeds/rmap_sub219637_DMN.nii.gz',\n",
       " '../rest/rmap_seeds/rmap_sub956130_DMN.nii.gz',\n",
       " '../rest/rmap_seeds/rmap_sub587006_DMN.nii.gz',\n",
       " '../rest/rmap_seeds/rmap_sub350555_DMN.nii.gz',\n",
       " '../rest/rmap_seeds/rmap_sub924191_DMN.nii.gz']"
      ]
     },
     "execution_count": 61,
     "metadata": {},
     "output_type": "execute_result"
    }
   ],
   "source": [
    "rmaps"
   ]
  },
  {
   "cell_type": "code",
   "execution_count": 62,
   "metadata": {},
   "outputs": [
    {
     "data": {
      "text/plain": [
       "77"
      ]
     },
     "execution_count": 62,
     "metadata": {},
     "output_type": "execute_result"
    }
   ],
   "source": [
    "import re\n",
    "second_level_input = []\n",
    "for i in rmaps:\n",
    "    sub = re.search(\"\\d\\d\\d\\d\\d\\d\",i)\n",
    "    \n",
    "    subid = sub.group(0)\n",
    "    \n",
    "    if(subid in set(cimaq_diagnostic[\"subID\"].values)):\n",
    "        \n",
    "        second_level_input.append(i)\n",
    "        \n",
    "len(second_level_input)"
   ]
  },
  {
   "cell_type": "code",
   "execution_count": 69,
   "metadata": {},
   "outputs": [],
   "source": [
    "second_level_model = SecondLevelModel().fit(second_level_input, design_matrix=design_matrix)\n"
   ]
  },
  {
   "cell_type": "code",
   "execution_count": 80,
   "metadata": {},
   "outputs": [],
   "source": [
    "z_map = second_level_model.compute_contrast(output_type='z_score')"
   ]
  },
  {
   "cell_type": "code",
   "execution_count": 81,
   "metadata": {},
   "outputs": [
    {
     "data": {
      "image/png": "[encoded data removed]",
      "text/plain": [
       "<Figure size 525.6x187.2 with 5 Axes>"
      ]
     },
     "metadata": {},
     "output_type": "display_data"
    }
   ],
   "source": [
    "from nilearn import plotting\n",
    "threshold = 3.1  # correponds to  p < .001, uncorrected\n",
    "display = plotting.plot_glass_brain(\n",
    "    z_map, threshold=threshold, colorbar=True, plot_abs=False)"
   ]
  },
  {
   "cell_type": "code",
   "execution_count": null,
   "metadata": {},
   "outputs": [],
   "source": []
  }
 ],
 "metadata": {
  "kernelspec": {
   "display_name": "hanad_env",
   "language": "python",
   "name": "hanad_env"
  },
  "language_info": {
   "codemirror_mode": {
    "name": "ipython",
    "version": 3
   },
   "file_extension": ".py",
   "mimetype": "text/x-python",
   "name": "python",
   "nbconvert_exporter": "python",
   "pygments_lexer": "ipython3",
   "version": "3.7.4"
  }
 },
 "nbformat": 4,
 "nbformat_minor": 2
}
