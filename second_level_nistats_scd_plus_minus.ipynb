{
 "cells": [
  {
   "cell_type": "code",
   "execution_count": 1,
   "metadata": {},
   "outputs": [
    {
     "name": "stderr",
     "output_type": "stream",
     "text": [
      "/data/softwares/anaconda3/2019.10/lib/python3.7/site-packages/sklearn/externals/joblib/__init__.py:15: DeprecationWarning: sklearn.externals.joblib is deprecated in 0.21 and will be removed in 0.23. Please import this functionality directly from joblib, which can be installed with: pip install joblib. If this warning is raised when loading pickled models, you may need to re-serialize those models with scikit-learn 0.21+.\n",
      "  warnings.warn(msg, category=DeprecationWarning)\n"
     ]
    }
   ],
   "source": [
    "import re\n",
    "import glob\n",
    "import pandas as pd\n",
    "import nibabel as nb\n",
    "import numpy as np\n",
    "from nistats.second_level_model import SecondLevelModel\n",
    "from nistats.thresholding import map_threshold\n",
    "from nilearn import plotting"
   ]
  },
  {
   "cell_type": "markdown",
   "metadata": {},
   "source": [
    "# importing rmaps"
   ]
  },
  {
   "cell_type": "code",
   "execution_count": 2,
   "metadata": {},
   "outputs": [
    {
     "data": {
      "text/plain": [
       "112"
      ]
     },
     "execution_count": 2,
     "metadata": {},
     "output_type": "execute_result"
    }
   ],
   "source": [
    "network_interest = \"DMN\"\n",
    "connectivity_maps = glob.glob(\"rest/rmap_seeds/*sub*_\"+network_interest+\".nii.gz\")\n",
    "len(connectivity_maps)"
   ]
  },
  {
   "cell_type": "markdown",
   "metadata": {},
   "source": [
    "# import csv file "
   ]
  },
  {
   "cell_type": "code",
   "execution_count": 3,
   "metadata": {},
   "outputs": [
    {
     "data": {
      "text/html": [
       "<div>\n",
       "<style scoped>\n",
       "    .dataframe tbody tr th:only-of-type {\n",
       "        vertical-align: middle;\n",
       "    }\n",
       "\n",
       "    .dataframe tbody tr th {\n",
       "        vertical-align: top;\n",
       "    }\n",
       "\n",
       "    .dataframe thead th {\n",
       "        text-align: right;\n",
       "    }\n",
       "</style>\n",
       "<table border=\"1\" class=\"dataframe\">\n",
       "  <thead>\n",
       "    <tr style=\"text-align: right;\">\n",
       "      <th></th>\n",
       "      <th>PSCID</th>\n",
       "      <th>CandID</th>\n",
       "      <th>Candidate_Age</th>\n",
       "      <th>Data_entry_completion_status</th>\n",
       "      <th>Validity</th>\n",
       "      <th>Visit_stage</th>\n",
       "      <th>36448_diagnostic_clinique</th>\n",
       "      <th>36448_diagnostic_clinique_detail</th>\n",
       "      <th>36448_diagnostic_clinique_detail_status</th>\n",
       "      <th>36448_eligible_cimaq</th>\n",
       "      <th>36448_medecin_specialite</th>\n",
       "    </tr>\n",
       "  </thead>\n",
       "  <tbody>\n",
       "    <tr>\n",
       "      <th>0</th>\n",
       "      <td>8212673</td>\n",
       "      <td>914042.0</td>\n",
       "      <td>75.7</td>\n",
       "      <td>Complete</td>\n",
       "      <td>Valid</td>\n",
       "      <td>Approval</td>\n",
       "      <td>trouble_cognitif_léger_précoce</td>\n",
       "      <td>Plainte cognitive objective (mnésique, languag...</td>\n",
       "      <td>NaN</td>\n",
       "      <td>oui</td>\n",
       "      <td>gériatre</td>\n",
       "    </tr>\n",
       "    <tr>\n",
       "      <th>1</th>\n",
       "      <td>7853010</td>\n",
       "      <td>414656.0</td>\n",
       "      <td>69.7</td>\n",
       "      <td>Complete</td>\n",
       "      <td>Valid</td>\n",
       "      <td>Approval</td>\n",
       "      <td>trouble_cognitif_léger_précoce</td>\n",
       "      <td>Plainte mnésique, discrètes difficultés d'orga...</td>\n",
       "      <td>NaN</td>\n",
       "      <td>oui</td>\n",
       "      <td>gériatre</td>\n",
       "    </tr>\n",
       "    <tr>\n",
       "      <th>2</th>\n",
       "      <td>7112485</td>\n",
       "      <td>866678.0</td>\n",
       "      <td>82.1</td>\n",
       "      <td>Complete</td>\n",
       "      <td>Valid</td>\n",
       "      <td>Approval</td>\n",
       "      <td>trouble_cognitif_léger_précoce</td>\n",
       "      <td>Légers troubles exécutifs, attentionnels, d'ab...</td>\n",
       "      <td>NaN</td>\n",
       "      <td>oui</td>\n",
       "      <td>gériatre</td>\n",
       "    </tr>\n",
       "    <tr>\n",
       "      <th>3</th>\n",
       "      <td>6051205</td>\n",
       "      <td>878652.0</td>\n",
       "      <td>78.6</td>\n",
       "      <td>Complete</td>\n",
       "      <td>Valid</td>\n",
       "      <td>Approval</td>\n",
       "      <td>démence_de_type_alzheimer-légère</td>\n",
       "      <td>Pas de notes manuscrites.</td>\n",
       "      <td>NaN</td>\n",
       "      <td>oui</td>\n",
       "      <td>gériatre</td>\n",
       "    </tr>\n",
       "    <tr>\n",
       "      <th>4</th>\n",
       "      <td>4932877</td>\n",
       "      <td>318809.0</td>\n",
       "      <td>70.9</td>\n",
       "      <td>Complete</td>\n",
       "      <td>Valid</td>\n",
       "      <td>Approval</td>\n",
       "      <td>cognitivement_sain_(cs)</td>\n",
       "      <td>NaN</td>\n",
       "      <td>donnée_non_disponible</td>\n",
       "      <td>oui</td>\n",
       "      <td>gériatre</td>\n",
       "    </tr>\n",
       "  </tbody>\n",
       "</table>\n",
       "</div>"
      ],
      "text/plain": [
       "     PSCID    CandID Candidate_Age Data_entry_completion_status Validity  \\\n",
       "0  8212673  914042.0          75.7                     Complete    Valid   \n",
       "1  7853010  414656.0          69.7                     Complete    Valid   \n",
       "2  7112485  866678.0          82.1                     Complete    Valid   \n",
       "3  6051205  878652.0          78.6                     Complete    Valid   \n",
       "4  4932877  318809.0          70.9                     Complete    Valid   \n",
       "\n",
       "  Visit_stage         36448_diagnostic_clinique  \\\n",
       "0    Approval    trouble_cognitif_léger_précoce   \n",
       "1    Approval    trouble_cognitif_léger_précoce   \n",
       "2    Approval    trouble_cognitif_léger_précoce   \n",
       "3    Approval  démence_de_type_alzheimer-légère   \n",
       "4    Approval           cognitivement_sain_(cs)   \n",
       "\n",
       "                    36448_diagnostic_clinique_detail  \\\n",
       "0  Plainte cognitive objective (mnésique, languag...   \n",
       "1  Plainte mnésique, discrètes difficultés d'orga...   \n",
       "2  Légers troubles exécutifs, attentionnels, d'ab...   \n",
       "3                          Pas de notes manuscrites.   \n",
       "4                                                NaN   \n",
       "\n",
       "  36448_diagnostic_clinique_detail_status 36448_eligible_cimaq  \\\n",
       "0                                     NaN                  oui   \n",
       "1                                     NaN                  oui   \n",
       "2                                     NaN                  oui   \n",
       "3                                     NaN                  oui   \n",
       "4                   donnée_non_disponible                  oui   \n",
       "\n",
       "  36448_medecin_specialite  \n",
       "0                 gériatre  \n",
       "1                 gériatre  \n",
       "2                 gériatre  \n",
       "3                 gériatre  \n",
       "4                 gériatre  "
      ]
     },
     "execution_count": 3,
     "metadata": {},
     "output_type": "execute_result"
    }
   ],
   "source": [
    "#load the csv files\n",
    "cimaq_diagnostic = pd.read_csv('36448_diagnostic_clinique.tsv', sep = '\\t')\n",
    "cimaq_diagnostic.head()"
   ]
  },
  {
   "cell_type": "code",
   "execution_count": 4,
   "metadata": {},
   "outputs": [
    {
     "name": "stdout",
     "output_type": "stream",
     "text": [
      "{nan, 'cognitivement_sain_(cs)', 'troubles_subjectifs_de_cognition', 'démence_de_type_alzheimer-légère', 'trouble_cognitif_léger_précoce', 'trouble_cognitif_léger_tardif'}\n",
      "(99, 4)\n"
     ]
    },
    {
     "data": {
      "text/html": [
       "<div>\n",
       "<style scoped>\n",
       "    .dataframe tbody tr th:only-of-type {\n",
       "        vertical-align: middle;\n",
       "    }\n",
       "\n",
       "    .dataframe tbody tr th {\n",
       "        vertical-align: top;\n",
       "    }\n",
       "\n",
       "    .dataframe thead th {\n",
       "        text-align: right;\n",
       "    }\n",
       "</style>\n",
       "<table border=\"1\" class=\"dataframe\">\n",
       "  <thead>\n",
       "    <tr style=\"text-align: right;\">\n",
       "      <th></th>\n",
       "      <th>PSCID</th>\n",
       "      <th>subID</th>\n",
       "      <th>diagnostic</th>\n",
       "      <th>Candidate_Age</th>\n",
       "    </tr>\n",
       "  </thead>\n",
       "  <tbody>\n",
       "    <tr>\n",
       "      <th>4</th>\n",
       "      <td>4932877</td>\n",
       "      <td>318809.0</td>\n",
       "      <td>cognitivement_sain_(cs)</td>\n",
       "      <td>70.9</td>\n",
       "    </tr>\n",
       "    <tr>\n",
       "      <th>9</th>\n",
       "      <td>8734231</td>\n",
       "      <td>651050.0</td>\n",
       "      <td>trouble_cognitif_léger_tardif</td>\n",
       "      <td>81.1</td>\n",
       "    </tr>\n",
       "    <tr>\n",
       "      <th>11</th>\n",
       "      <td>8875385</td>\n",
       "      <td>437101.0</td>\n",
       "      <td>cognitivement_sain_(cs)</td>\n",
       "      <td>74.5</td>\n",
       "    </tr>\n",
       "    <tr>\n",
       "      <th>12</th>\n",
       "      <td>8697622</td>\n",
       "      <td>324734.0</td>\n",
       "      <td>cognitivement_sain_(cs)</td>\n",
       "      <td>89.3</td>\n",
       "    </tr>\n",
       "    <tr>\n",
       "      <th>21</th>\n",
       "      <td>3431566</td>\n",
       "      <td>164965.0</td>\n",
       "      <td>cognitivement_sain_(cs)</td>\n",
       "      <td>66.3</td>\n",
       "    </tr>\n",
       "  </tbody>\n",
       "</table>\n",
       "</div>"
      ],
      "text/plain": [
       "      PSCID     subID                     diagnostic Candidate_Age\n",
       "4   4932877  318809.0        cognitivement_sain_(cs)          70.9\n",
       "9   8734231  651050.0  trouble_cognitif_léger_tardif          81.1\n",
       "11  8875385  437101.0        cognitivement_sain_(cs)          74.5\n",
       "12  8697622  324734.0        cognitivement_sain_(cs)          89.3\n",
       "21  3431566  164965.0        cognitivement_sain_(cs)          66.3"
      ]
     },
     "execution_count": 4,
     "metadata": {},
     "output_type": "execute_result"
    }
   ],
   "source": [
    "print(set(cimaq_diagnostic['36448_diagnostic_clinique'].values))\n",
    "\n",
    "#Rename the columns\n",
    "cimaq_diagnostic = cimaq_diagnostic[[\"PSCID\",'CandID','36448_diagnostic_clinique','Candidate_Age']]\n",
    "cimaq_diagnostic.rename(columns = {\"CandID\":\"subID\",\"36448_diagnostic_clinique\":\"diagnostic\",\"Candidate Age\":\"Age\" },inplace=True)\n",
    "\n",
    "#drop the rows that have nan\n",
    "cimaq_diagnostic.dropna(inplace=True)\n",
    "\n",
    "#drop the subjects that have AD\n",
    "cimaq_diagnostic = cimaq_diagnostic.loc[cimaq_diagnostic[\"diagnostic\"] != \"démence_de_type_alzheimer-légère\" ]\n",
    "\n",
    "#Get the subject IDs from the the rmaps\n",
    "subjectID_set = set([sub.split(\"sub\")[1].split(\"_\")[0] for sub in connectivity_maps])\n",
    "                    \n",
    "#drop the subjects from csv if rmaps are not present\n",
    "cimaq_diagnostic = cimaq_diagnostic.loc[cimaq_diagnostic[\"subID\"].isin(subjectID_set)]                   \n",
    "                    \n",
    "print(cimaq_diagnostic.shape)\n",
    "cimaq_diagnostic.head()"
   ]
  },
  {
   "cell_type": "code",
   "execution_count": 5,
   "metadata": {},
   "outputs": [],
   "source": [
    "scd_csv = pd.read_excel('scd_cimaq.xlsx')\n",
    "scd_plus = scd_csv.loc[scd_csv[\"Diagnostic_SCD_MCI\"] == 22][\"ID\"].values\n",
    "scd_minus = scd_csv.loc[scd_csv[\"Diagnostic_SCD_MCI\"] == 2][\"ID\"].values\n",
    "# scd_plus\n",
    "# scd_csv"
   ]
  },
  {
   "cell_type": "code",
   "execution_count": 6,
   "metadata": {},
   "outputs": [
    {
     "name": "stdout",
     "output_type": "stream",
     "text": [
      "26\n",
      "41\n"
     ]
    }
   ],
   "source": [
    "print(len(scd_plus))\n",
    "print(len(scd_minus))"
   ]
  },
  {
   "cell_type": "markdown",
   "metadata": {},
   "source": [
    "# create design matrix"
   ]
  },
  {
   "cell_type": "code",
   "execution_count": 7,
   "metadata": {},
   "outputs": [
    {
     "name": "stderr",
     "output_type": "stream",
     "text": [
      "/data/softwares/anaconda3/2019.10/lib/python3.7/site-packages/ipykernel_launcher.py:13: FutureWarning: elementwise comparison failed; returning scalar instead, but in the future will perform elementwise comparison\n",
      "  del sys.path[0]\n",
      "/data/softwares/anaconda3/2019.10/lib/python3.7/site-packages/ipykernel_launcher.py:10: FutureWarning: elementwise comparison failed; returning scalar instead, but in the future will perform elementwise comparison\n",
      "  # Remove the CWD from sys.path while we load stuff.\n"
     ]
    },
    {
     "data": {
      "text/html": [
       "<div>\n",
       "<style scoped>\n",
       "    .dataframe tbody tr th:only-of-type {\n",
       "        vertical-align: middle;\n",
       "    }\n",
       "\n",
       "    .dataframe tbody tr th {\n",
       "        vertical-align: top;\n",
       "    }\n",
       "\n",
       "    .dataframe thead th {\n",
       "        text-align: right;\n",
       "    }\n",
       "</style>\n",
       "<table border=\"1\" class=\"dataframe\">\n",
       "  <thead>\n",
       "    <tr style=\"text-align: right;\">\n",
       "      <th></th>\n",
       "      <th>PSCID</th>\n",
       "      <th>subID</th>\n",
       "      <th>diagnostic</th>\n",
       "      <th>Candidate_Age</th>\n",
       "      <th>MCI</th>\n",
       "      <th>SCD</th>\n",
       "      <th>CN</th>\n",
       "    </tr>\n",
       "  </thead>\n",
       "  <tbody>\n",
       "    <tr>\n",
       "      <th>4</th>\n",
       "      <td>4932877</td>\n",
       "      <td>318809</td>\n",
       "      <td>cognitivement_sain_(cs)</td>\n",
       "      <td>70.9</td>\n",
       "      <td>0</td>\n",
       "      <td>0</td>\n",
       "      <td>1</td>\n",
       "    </tr>\n",
       "    <tr>\n",
       "      <th>9</th>\n",
       "      <td>8734231</td>\n",
       "      <td>651050</td>\n",
       "      <td>trouble_cognitif_léger_tardif</td>\n",
       "      <td>81.1</td>\n",
       "      <td>1</td>\n",
       "      <td>0</td>\n",
       "      <td>0</td>\n",
       "    </tr>\n",
       "    <tr>\n",
       "      <th>11</th>\n",
       "      <td>8875385</td>\n",
       "      <td>437101</td>\n",
       "      <td>cognitivement_sain_(cs)</td>\n",
       "      <td>74.5</td>\n",
       "      <td>0</td>\n",
       "      <td>0</td>\n",
       "      <td>1</td>\n",
       "    </tr>\n",
       "    <tr>\n",
       "      <th>12</th>\n",
       "      <td>8697622</td>\n",
       "      <td>324734</td>\n",
       "      <td>cognitivement_sain_(cs)</td>\n",
       "      <td>89.3</td>\n",
       "      <td>0</td>\n",
       "      <td>0</td>\n",
       "      <td>1</td>\n",
       "    </tr>\n",
       "    <tr>\n",
       "      <th>21</th>\n",
       "      <td>3431566</td>\n",
       "      <td>164965</td>\n",
       "      <td>cognitivement_sain_(cs)</td>\n",
       "      <td>66.3</td>\n",
       "      <td>0</td>\n",
       "      <td>0</td>\n",
       "      <td>1</td>\n",
       "    </tr>\n",
       "  </tbody>\n",
       "</table>\n",
       "</div>"
      ],
      "text/plain": [
       "      PSCID   subID                     diagnostic Candidate_Age  MCI  SCD  CN\n",
       "4   4932877  318809        cognitivement_sain_(cs)          70.9    0    0   1\n",
       "9   8734231  651050  trouble_cognitif_léger_tardif          81.1    1    0   0\n",
       "11  8875385  437101        cognitivement_sain_(cs)          74.5    0    0   1\n",
       "12  8697622  324734        cognitivement_sain_(cs)          89.3    0    0   1\n",
       "21  3431566  164965        cognitivement_sain_(cs)          66.3    0    0   1"
      ]
     },
     "execution_count": 7,
     "metadata": {},
     "output_type": "execute_result"
    }
   ],
   "source": [
    "\n",
    "cimaq_diagnostic[\"MCI\"] = 0\n",
    "cimaq_diagnostic[\"SCD\"] = 0\n",
    "cimaq_diagnostic[\"CN\"] = 0\n",
    "\n",
    "for i,r in cimaq_diagnostic.iterrows():\n",
    "    \n",
    "#     if(r[\"diagnostic\"] == \"troubles_subjectifs_de_cognition\" ):\n",
    "#         cimaq_diagnostic.loc[i,\"SCD\"] = 1\n",
    "\n",
    "    if(r[\"diagnostic\"] == \"cognitivement_sain_(cs)\" or r[\"PSCID\"] in scd_minus):\n",
    "        cimaq_diagnostic.loc[i,\"CN\"] = 1          \n",
    "\n",
    "    if(\"trouble_cognitif_léger\" in r[\"diagnostic\"] or  r[\"PSCID\"] in scd_plus):\n",
    "        cimaq_diagnostic.loc[i,\"MCI\"] = 1\n",
    "\n",
    "\n",
    "    cimaq_diagnostic.loc[i,\"subID\"] = str(r[\"subID\"]).split(\".\")[0]\n",
    "    \n",
    "\n",
    "# cimaq_diagnostic = cimaq_diagnostic.loc[cimaq_diagnostic[\"diagnostic\"] != \"démence_de_type_alzheimer-légère\" ]\n",
    "# cimaq_diagnostic = cimaq_diagnostic.loc[cimaq_diagnostic[\"subID\"].isin(subjectID_set)]\n",
    "cimaq_diagnostic.head()"
   ]
  },
  {
   "cell_type": "code",
   "execution_count": 8,
   "metadata": {},
   "outputs": [
    {
     "data": {
      "text/plain": [
       "0"
      ]
     },
     "execution_count": 8,
     "metadata": {},
     "output_type": "execute_result"
    }
   ],
   "source": [
    "np.sum(cimaq_diagnostic[\"SCD\"].values)"
   ]
  },
  {
   "cell_type": "code",
   "execution_count": 9,
   "metadata": {},
   "outputs": [
    {
     "data": {
      "text/plain": [
       "(99, 2)"
      ]
     },
     "execution_count": 9,
     "metadata": {},
     "output_type": "execute_result"
    }
   ],
   "source": [
    "design_matrix = cimaq_diagnostic[[\"MCI\",\"CN\"]]\n",
    "design_matrix.shape"
   ]
  },
  {
   "cell_type": "markdown",
   "metadata": {},
   "source": [
    "# perform  t-test"
   ]
  },
  {
   "cell_type": "code",
   "execution_count": 10,
   "metadata": {},
   "outputs": [],
   "source": [
    "#take the rmaps that are in the csv\n",
    "second_level_input = []\n",
    "for i in connectivity_maps:\n",
    "    sub = re.search(\"\\d\\d\\d\\d\\d\\d\",i)\n",
    "    subid = sub.group(0)\n",
    "    if(subid in set(cimaq_diagnostic[\"subID\"].values)):        \n",
    "        second_level_input.append(i)\n"
   ]
  },
  {
   "cell_type": "code",
   "execution_count": 11,
   "metadata": {},
   "outputs": [],
   "source": [
    "second_level_model = SecondLevelModel().fit(second_level_input, design_matrix=design_matrix)\n",
    "z_score = second_level_model.compute_contrast(second_level_contrast = [1,-1])"
   ]
  },
  {
   "cell_type": "code",
   "execution_count": 14,
   "metadata": {},
   "outputs": [
    {
     "data": {
      "text/plain": [
       "<nilearn.plotting.displays.OrthoSlicer at 0x7f4a9fc26e10>"
      ]
     },
     "execution_count": 14,
     "metadata": {},
     "output_type": "execute_result"
    },
    {
     "data": {
      "image/png": "[encoded data removed]",
      "text/plain": [
       "<Figure size 525.6x187.2 with 5 Axes>"
      ]
     },
     "metadata": {},
     "output_type": "display_data"
    }
   ],
   "source": [
    "plotting.plot_stat_map(z_score)"
   ]
  },
  {
   "cell_type": "code",
   "execution_count": 15,
   "metadata": {},
   "outputs": [
    {
     "name": "stderr",
     "output_type": "stream",
     "text": [
      "/home/hanads/.local/lib/python3.7/site-packages/nilearn/plotting/displays.py:780: UserWarning: empty mask\n",
      "  get_mask_bounds(new_img_like(img, not_mask, affine))\n"
     ]
    },
    {
     "data": {
      "text/plain": [
       "<nilearn.plotting.displays.OrthoSlicer at 0x7f4a96674910>"
      ]
     },
     "execution_count": 15,
     "metadata": {},
     "output_type": "execute_result"
    },
    {
     "data": {
      "image/png": "[encoded data removed]",
      "text/plain": [
       "<Figure size 525.6x187.2 with 4 Axes>"
      ]
     },
     "metadata": {},
     "output_type": "display_data"
    }
   ],
   "source": [
    "thresholded_map, threshold = map_threshold(z_score, alpha=0.1, height_control='fdr')\n",
    "plotting.plot_stat_map(thresholded_map)"
   ]
  },
  {
   "cell_type": "markdown",
   "metadata": {},
   "source": [
    "# F-test"
   ]
  },
  {
   "cell_type": "code",
   "execution_count": null,
   "metadata": {},
   "outputs": [],
   "source": [
    "second_level_model2 = SecondLevelModel().fit(second_level_input, design_matrix=design_matrix)\n",
    "p_map = second_level_model2.compute_contrast(second_level_contrast = [1,1,1], second_level_stat_type = \"F\")"
   ]
  },
  {
   "cell_type": "code",
   "execution_count": null,
   "metadata": {},
   "outputs": [],
   "source": [
    "plotting.view_img(p_map)"
   ]
  },
  {
   "cell_type": "code",
   "execution_count": null,
   "metadata": {},
   "outputs": [],
   "source": []
  },
  {
   "cell_type": "code",
   "execution_count": null,
   "metadata": {},
   "outputs": [],
   "source": []
  }
 ],
 "metadata": {
  "kernelspec": {
   "display_name": "hanad_env",
   "language": "python",
   "name": "hanad_env"
  },
  "language_info": {
   "codemirror_mode": {
    "name": "ipython",
    "version": 3
   },
   "file_extension": ".py",
   "mimetype": "text/x-python",
   "name": "python",
   "nbconvert_exporter": "python",
   "pygments_lexer": "ipython3",
   "version": "3.7.4"
  }
 },
 "nbformat": 4,
 "nbformat_minor": 2
}
